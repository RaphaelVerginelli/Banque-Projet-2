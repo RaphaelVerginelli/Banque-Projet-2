{
 "cells": [
  {
   "cell_type": "code",
   "execution_count": 283,
   "id": "33fc5166",
   "metadata": {},
   "outputs": [],
   "source": [
    "#Création de la classe\n",
    "import csv\n",
    "class CompteBancaire():\n",
    "    \"création d'une simulation de banque et de ses fonctions\"\n",
    "    \n",
    "\n",
    "    def __init__(self, name, iden, mdp):\n",
    "        self.name = name\n",
    "        self.iden = iden\n",
    "        self.mdp = mdp\n",
    "        with open('repertoire.csv', mode='a') as file_:\n",
    "            file_.write(\"{},{},{},{},{}\".format(self.iden, self.mdp, self.name, None, None))\n",
    "            file_.write(\"\\n\")\n",
    "            \n",
    "        \n",
    "    def affiche(self):\n",
    "        f = open('repertoire.csv')\n",
    "        fichier = csv.reader(f)\n",
    "        for ligne in fichier:\n",
    "            print(ligne)\n",
    "            \n",
    "    def identité(self):\n",
    "        self.condition_de_boucle = False\n",
    "        while self.condition_de_boucle == False:\n",
    "            donnees = []\n",
    "            with open(\"repertoire.csv\",'r') as file:\n",
    "                reader = csv.reader(file)\n",
    "                for ligne in reader:\n",
    "                    donnees.append(ligne)\n",
    "            colonne0 = [x[0] for x in donnees]\n",
    "            colonne1 = [x[1] for x in donnees] \n",
    "    \n",
    "            verif = input(\"Veuillez rentrer votre identifiant : \")\n",
    "            verif2 = input(\"Veuillez rentrer votre mot de passe : \")\n",
    "        \n",
    "\n",
    "            if verif in colonne0:\n",
    "                for k in range(0,len(colonne0)):\n",
    "                    if colonne0[k] == verif and colonne1[k] == verif2:\n",
    "                        self.stock = k\n",
    "                        print(\"Vous êtes bien connecté\")\n",
    "                        self.condition_de_boucle = True\n",
    "\n",
    "    def créer_compte_courant(self):\n",
    "        if self.condition_de_boucle == True:\n",
    "            donnees = []\n",
    "            with open('repertoire.csv','r') as file:\n",
    "                reader = csv.reader(file)\n",
    "                for ligne in reader:\n",
    "                    donnees.append(ligne)\n",
    "            donnees[self.stock][3] = 0\n",
    "            with open('repertoire.csv','w') as file_:\n",
    "                reader = csv.writer(file_)\n",
    "                for i in range(len(donnees)):\n",
    "                    reader.writerow(donnees[i])\n",
    "        return donnees[self.stock][3]\n",
    "    \n",
    "    \n",
    "    def créer_compte_épargne(self):\n",
    "        if self.condition_de_boucle == True:\n",
    "            donnees = []\n",
    "            with open('repertoire.csv','r') as file:\n",
    "                reader = csv.reader(file)\n",
    "                for ligne in reader:\n",
    "                    donnees.append(ligne)\n",
    "            donnees[self.stock][4] = 0\n",
    "            with open('repertoire.csv','w') as file_:\n",
    "                reader = csv.writer(file_)\n",
    "                for i in range(len(donnees)):\n",
    "                    reader.writerow(donnees[i])\n",
    "        return donnees[self.stock][4]\n",
    "    \n",
    "    def simulation(self):\n",
    "        self.nombre_année = int(input(\"Choisissez un nombre d'année pour simuler l'argent de votre compte_épargne\"))\n",
    "        for i in range(1,self.nombre_année+1):\n",
    "            simulation = self.compte_épargne + (self.compte_épargne*0.6)\n",
    "        return simulation, self.nombre_année\n",
    "    \n",
    "    \n",
    "    def depot(self):\n",
    "        if self.condition_de_boucle == True:\n",
    "            donnees = []\n",
    "            depot = int(input(\"Veuiller saisir le montant à déposer : \"))\n",
    "            choix = input(\"Choisissez votre compte : \")\n",
    "            if choix == \"compte courant\" or \"Compte courant\":\n",
    "                with open('repertoire.csv','r') as file:\n",
    "                    reader = csv.reader(file)\n",
    "                    for ligne in reader:\n",
    "                        donnees.append(ligne)\n",
    "                donnees[self.stock][3] += depot\n",
    "                retour=print('argent sur le compte :',donnees[self.stock][3],'€')\n",
    "            elif choix == \"compte épargne\" or \"Compte épargne\":\n",
    "                with open('repertoire.csv','r') as file:\n",
    "                    reader = csv.reader(file)\n",
    "                    for ligne in reader:\n",
    "                        donnees.append(ligne)\n",
    "                donnees[self.stock][4] += depot\n",
    "                retour=print('argent sur le compte :',donnees[self.stock][4],'€')\n",
    "            else:\n",
    "                print(\"veuillez selectionner un compte valable\")\n",
    "                \n",
    "\n",
    "    \n",
    "    def retrait(self):\n",
    "        if self.condition_de_boucle == True:\n",
    "            donnees = []\n",
    "            depot = int(input(\"Veuiller saisir le montant à retirer : \"))\n",
    "            choix = input(\"Choisissez votre compte : \")\n",
    "            if choix == \"compte courant\" or \"Compte courant\":\n",
    "                with open('repertoire.csv','r') as file:\n",
    "                    reader = csv.reader(file)\n",
    "                    for ligne in reader:\n",
    "                        donnees.append(ligne)\n",
    "                donnees[self.stock][3] -= depot\n",
    "                retour=print('argent sur le compte :',donnees[self.stock][3],'€')\n",
    "            elif choix == \"compte épargne\" or \"Compte épargne\":\n",
    "                with open('repertoire.csv','r') as file:\n",
    "                    reader = csv.reader(file)\n",
    "                    for ligne in reader:\n",
    "                        donnees.append(ligne)\n",
    "                donnees[self.stock][4] -= depot\n",
    "                retour=print('argent sur le compte :',donnees[self.stock][4],'€')\n",
    "            else:\n",
    "                print(\"veuillez selectionner un compte valable\")"
   ]
  },
  {
   "cell_type": "code",
   "execution_count": 277,
   "id": "d197e34b",
   "metadata": {},
   "outputs": [],
   "source": [
    "user = CompteBancaire(\"ke\", \"k\",1)"
   ]
  },
  {
   "cell_type": "code",
   "execution_count": 278,
   "id": "7e22634c",
   "metadata": {},
   "outputs": [],
   "source": [
    "user = CompteBancaire(\"je\", \"j\",2)"
   ]
  },
  {
   "cell_type": "code",
   "execution_count": 279,
   "id": "6e19d80e",
   "metadata": {},
   "outputs": [],
   "source": [
    "user = CompteBancaire(\"le\", \"l\",3)"
   ]
  },
  {
   "cell_type": "code",
   "execution_count": 284,
   "id": "396c15a5",
   "metadata": {},
   "outputs": [
    {
     "name": "stdout",
     "output_type": "stream",
     "text": [
      "['k', '1', 'ke', 'None', 'None']\n",
      "['j', '2', 'je', 'None', 'None']\n",
      "['l', '3', 'le', 'None', 'None']\n"
     ]
    }
   ],
   "source": [
    "user.affiche()"
   ]
  },
  {
   "cell_type": "code",
   "execution_count": 285,
   "id": "570d8003",
   "metadata": {},
   "outputs": [
    {
     "name": "stdout",
     "output_type": "stream",
     "text": [
      "Veuillez rentrer votre identifiant : j\n",
      "Veuillez rentrer votre mot de passe : 2\n",
      "Vous êtes bien connecté\n"
     ]
    }
   ],
   "source": [
    "user.identité()"
   ]
  },
  {
   "cell_type": "code",
   "execution_count": 250,
   "id": "f551ee4b",
   "metadata": {},
   "outputs": [
    {
     "data": {
      "text/plain": [
       "0"
      ]
     },
     "execution_count": 250,
     "metadata": {},
     "output_type": "execute_result"
    }
   ],
   "source": [
    "user.créer_compte_courant()"
   ]
  },
  {
   "cell_type": "code",
   "execution_count": 263,
   "id": "53f395f2",
   "metadata": {},
   "outputs": [
    {
     "data": {
      "text/plain": [
       "0"
      ]
     },
     "execution_count": 263,
     "metadata": {},
     "output_type": "execute_result"
    }
   ],
   "source": [
    "user.créer_compte_épargne()"
   ]
  },
  {
   "cell_type": "code",
   "execution_count": 286,
   "id": "a1b78f05",
   "metadata": {},
   "outputs": [
    {
     "name": "stdout",
     "output_type": "stream",
     "text": [
      "Veuiller saisir le montant déposer : 100\n",
      "Choisissez votre compte : Compte courant\n"
     ]
    },
    {
     "ename": "TypeError",
     "evalue": "can only concatenate str (not \"int\") to str",
     "output_type": "error",
     "traceback": [
      "\u001b[1;31m---------------------------------------------------------------------------\u001b[0m",
      "\u001b[1;31mTypeError\u001b[0m                                 Traceback (most recent call last)",
      "\u001b[1;32m<ipython-input-286-10eea7721bdb>\u001b[0m in \u001b[0;36m<module>\u001b[1;34m\u001b[0m\n\u001b[1;32m----> 1\u001b[1;33m \u001b[0muser\u001b[0m\u001b[1;33m.\u001b[0m\u001b[0mdepot\u001b[0m\u001b[1;33m(\u001b[0m\u001b[1;33m)\u001b[0m\u001b[1;33m\u001b[0m\u001b[1;33m\u001b[0m\u001b[0m\n\u001b[0m",
      "\u001b[1;32m<ipython-input-276-837ec362e181>\u001b[0m in \u001b[0;36mdepot\u001b[1;34m(self)\u001b[0m\n\u001b[0;32m     89\u001b[0m                     \u001b[1;32mfor\u001b[0m \u001b[0mligne\u001b[0m \u001b[1;32min\u001b[0m \u001b[0mreader\u001b[0m\u001b[1;33m:\u001b[0m\u001b[1;33m\u001b[0m\u001b[1;33m\u001b[0m\u001b[0m\n\u001b[0;32m     90\u001b[0m                         \u001b[0mdonnees\u001b[0m\u001b[1;33m.\u001b[0m\u001b[0mappend\u001b[0m\u001b[1;33m(\u001b[0m\u001b[0mligne\u001b[0m\u001b[1;33m)\u001b[0m\u001b[1;33m\u001b[0m\u001b[1;33m\u001b[0m\u001b[0m\n\u001b[1;32m---> 91\u001b[1;33m                 \u001b[0mdonnees\u001b[0m\u001b[1;33m[\u001b[0m\u001b[0mself\u001b[0m\u001b[1;33m.\u001b[0m\u001b[0mstock\u001b[0m\u001b[1;33m]\u001b[0m\u001b[1;33m[\u001b[0m\u001b[1;36m3\u001b[0m\u001b[1;33m]\u001b[0m \u001b[1;33m+=\u001b[0m \u001b[0mdepot\u001b[0m\u001b[1;33m\u001b[0m\u001b[1;33m\u001b[0m\u001b[0m\n\u001b[0m\u001b[0;32m     92\u001b[0m                 \u001b[0mretour\u001b[0m\u001b[1;33m=\u001b[0m\u001b[0mprint\u001b[0m\u001b[1;33m(\u001b[0m\u001b[1;34m'argent sur le compte :'\u001b[0m\u001b[1;33m,\u001b[0m\u001b[0mdonnees\u001b[0m\u001b[1;33m[\u001b[0m\u001b[0mself\u001b[0m\u001b[1;33m.\u001b[0m\u001b[0mstock\u001b[0m\u001b[1;33m]\u001b[0m\u001b[1;33m[\u001b[0m\u001b[1;36m3\u001b[0m\u001b[1;33m]\u001b[0m\u001b[1;33m,\u001b[0m\u001b[1;34m'€'\u001b[0m\u001b[1;33m)\u001b[0m\u001b[1;33m\u001b[0m\u001b[1;33m\u001b[0m\u001b[0m\n\u001b[0;32m     93\u001b[0m             \u001b[1;32melif\u001b[0m \u001b[0mchoix\u001b[0m \u001b[1;33m==\u001b[0m \u001b[1;34m\"compte épargne\"\u001b[0m \u001b[1;32mor\u001b[0m \u001b[1;34m\"Compte épargne\"\u001b[0m\u001b[1;33m:\u001b[0m\u001b[1;33m\u001b[0m\u001b[1;33m\u001b[0m\u001b[0m\n",
      "\u001b[1;31mTypeError\u001b[0m: can only concatenate str (not \"int\") to str"
     ]
    }
   ],
   "source": [
    "user.depot()"
   ]
  },
  {
   "cell_type": "code",
   "execution_count": 131,
   "id": "f87b7399",
   "metadata": {},
   "outputs": [
    {
     "name": "stdout",
     "output_type": "stream",
     "text": [
      "Veillez rentrer votre identifiant : j\n",
      "Veillez rentrer votre mot de passe : 1\n",
      "Veuiller saisir le montant désirer : 5\n",
      "Choisissez votre compte : compte_épargne\n",
      "argent sur le compte : 15 €\n"
     ]
    }
   ],
   "source": [
    "user.retrait()"
   ]
  },
  {
   "cell_type": "code",
   "execution_count": 140,
   "id": "a3b9d3de",
   "metadata": {},
   "outputs": [
    {
     "name": "stdout",
     "output_type": "stream",
     "text": [
      "Choisissez un nombre d'année pour simuler l'argent de votre compte_épargne5\n"
     ]
    },
    {
     "data": {
      "text/plain": [
       "(160.0, 5)"
      ]
     },
     "execution_count": 140,
     "metadata": {},
     "output_type": "execute_result"
    }
   ],
   "source": [
    "user.simulation()"
   ]
  },
  {
   "cell_type": "code",
   "execution_count": null,
   "id": "518fccc3",
   "metadata": {},
   "outputs": [],
   "source": []
  },
  {
   "cell_type": "code",
   "execution_count": null,
   "id": "2f409293",
   "metadata": {},
   "outputs": [],
   "source": [
    "verif = input(\"Veillez rentrer votre identifiant : \")\n",
    "        verif2 = int(input(\"Veillez rentrer votre mot de passe : \"))\n",
    "        while verif != self.iden or verif2 != self.mdp:\n",
    "            print(\"Mauvais identifiant et/ou mot de passe veuilez réessayer : \")\n",
    "            verif = input(\"Veillez rentrer votre identifiant : \")\n",
    "            verif2 = int(input(\"Veillez rentrer votre mot de passe : \"))"
   ]
  }
 ],
 "metadata": {
  "kernelspec": {
   "display_name": "Python 3",
   "language": "python",
   "name": "python3"
  },
  "language_info": {
   "codemirror_mode": {
    "name": "ipython",
    "version": 3
   },
   "file_extension": ".py",
   "mimetype": "text/x-python",
   "name": "python",
   "nbconvert_exporter": "python",
   "pygments_lexer": "ipython3",
   "version": "3.9.5"
  }
 },
 "nbformat": 4,
 "nbformat_minor": 5
}
