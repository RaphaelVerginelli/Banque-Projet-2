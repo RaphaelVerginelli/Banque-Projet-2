{
 "cells": [
  {
   "cell_type": "code",
   "execution_count": 84,
   "id": "33fc5166",
   "metadata": {},
   "outputs": [],
   "source": [
    "#Création de la classe\n",
    "\n",
    "class CompteBancaire():\n",
    "    \"création d'une simulation de banque et de ses fonctions\"\n",
    "    \n",
    "    \n",
    "    def __init__(self, banque_name):\n",
    "        self.banque = banque_name\n",
    "        \n",
    "        \n",
    "    def affiche(self):\n",
    "        return self.banque\n",
    "    \n",
    "    def identité(self,name, argent, iden, mdp):\n",
    "        self.name = name\n",
    "        self.argent = argent\n",
    "        self.iden = iden\n",
    "        self.mdp = mdp\n",
    "        repertoire = {}\n",
    "        repertoire[self.iden] = [self.name, self.argent, self.mdp]\n",
    "        return repertoire\n",
    "        \n",
    "        \n",
    "    def créer_compte_courant(self):\n",
    "        verif = input(\"Veillez rentrer votre identifiant : \")\n",
    "        verif2 = input(\"Veillez rentrer votre mot de passe : \")\n",
    "        while verif != self.iden and verif2 != self.mdp:\n",
    "            print(\"Mauvais identifiant et/ou mot de passe veuilez réessayer : \")\n",
    "            verif = input(\"Veillez rentrer votre identifiant : \")\n",
    "            verif2 = input(\"Veillez rentrer votre mot de passe : \")\n",
    "        self.compte = 0\n",
    "        return self.compte\n",
    "    \n",
    "    \n",
    "    def créer_compte_épargne(self):\n",
    "        verif = input(\"Veillez rentrer votre identifiant : \")\n",
    "        verif2 = input(\"Veillez rentrer votre mot de passe : \")\n",
    "        while verif != self.iden and verif2 != self.mdp:\n",
    "            print(\"Mauvais identifiant et/ou mot de passe veuilez réessayer : \")\n",
    "            verif = input(\"Veillez rentrer votre identifiant : \")\n",
    "            verif2 = input(\"Veillez rentrer votre mot de passe : \")\n",
    "        self.compte_épargne = 0\n",
    "        return self.compte_épargne\n",
    "    \n",
    "    def année_qui_passe(self):\n",
    "        nombre_année = 0\n",
    "        self.compte_épargne = self.compte_épargne*1.25\n",
    "        nombre_année = nombre_année + 1\n",
    "        return self.compte_épargne, nombre_année"
   ]
  },
  {
   "cell_type": "code",
   "execution_count": 85,
   "id": "d197e34b",
   "metadata": {},
   "outputs": [],
   "source": [
    "banque = CompteBancaire(\"l'argent c'est bien\")"
   ]
  },
  {
   "cell_type": "code",
   "execution_count": 86,
   "id": "396c15a5",
   "metadata": {},
   "outputs": [
    {
     "data": {
      "text/plain": [
       "\"l'argent c'est bien\""
      ]
     },
     "execution_count": 86,
     "metadata": {},
     "output_type": "execute_result"
    }
   ],
   "source": [
    "banque.affiche()"
   ]
  },
  {
   "cell_type": "code",
   "execution_count": 87,
   "id": "570d8003",
   "metadata": {},
   "outputs": [
    {
     "data": {
      "text/plain": [
       "{'Jean1234': ['Jean', 500, 123456]}"
      ]
     },
     "execution_count": 87,
     "metadata": {},
     "output_type": "execute_result"
    }
   ],
   "source": [
    "banque.identité(\"Jean\", 500, \"Jean1234\", 123456)"
   ]
  },
  {
   "cell_type": "code",
   "execution_count": 88,
   "id": "7435b94c",
   "metadata": {},
   "outputs": [
    {
     "name": "stdout",
     "output_type": "stream",
     "text": [
      "Veillez rentrer votre identifiant : Jen1234\n",
      "Veillez rentrer votre mot de passe : 1234\n",
      "Mauvais identifiant et/ou mot de passe veuilez réessayer : \n",
      "Veillez rentrer votre identifiant : Jean1234\n",
      "Veillez rentrer votre mot de passe : 123456\n"
     ]
    },
    {
     "data": {
      "text/plain": [
       "0"
      ]
     },
     "execution_count": 88,
     "metadata": {},
     "output_type": "execute_result"
    }
   ],
   "source": [
    "banque.créer_compte_courant()"
   ]
  },
  {
   "cell_type": "code",
   "execution_count": 89,
   "id": "53f395f2",
   "metadata": {},
   "outputs": [
    {
     "name": "stdout",
     "output_type": "stream",
     "text": [
      "Veillez rentrer votre identifiant : Jen1234\n",
      "Veillez rentrer votre mot de passe : 123456\n",
      "Mauvais identifiant et/ou mot de passe veuilez réessayer : \n",
      "Veillez rentrer votre identifiant : Jean1234\n",
      "Veillez rentrer votre mot de passe : 123456\n"
     ]
    },
    {
     "data": {
      "text/plain": [
       "0"
      ]
     },
     "execution_count": 89,
     "metadata": {},
     "output_type": "execute_result"
    }
   ],
   "source": [
    "banque.créer_compte_épargne()"
   ]
  },
  {
   "cell_type": "code",
   "execution_count": null,
   "id": "a1b78f05",
   "metadata": {},
   "outputs": [],
   "source": []
  }
 ],
 "metadata": {
  "kernelspec": {
   "display_name": "Python 3",
   "language": "python",
   "name": "python3"
  },
  "language_info": {
   "codemirror_mode": {
    "name": "ipython",
    "version": 3
   },
   "file_extension": ".py",
   "mimetype": "text/x-python",
   "name": "python",
   "nbconvert_exporter": "python",
   "pygments_lexer": "ipython3",
   "version": "3.9.5"
  }
 },
 "nbformat": 4,
 "nbformat_minor": 5
}
