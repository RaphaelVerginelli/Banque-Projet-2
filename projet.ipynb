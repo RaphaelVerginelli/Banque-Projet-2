{
 "cells": [
  {
   "cell_type": "code",
   "execution_count": 533,
   "id": "33fc5166",
   "metadata": {},
   "outputs": [],
   "source": [
    "#Création de la classe\n",
    "import os.path\n",
    "import matplotlib.pyplot as plt\n",
    "import numpy as np\n",
    "class CompteBancaire():\n",
    "    \"création d'une simulation de banque et de ses fonctions\"\n",
    "    \n",
    "\n",
    "    def __init__(self, name, iden, mdp):\n",
    "        self.name = name\n",
    "        self.iden = iden\n",
    "        self.mdp = mdp\n",
    "\n",
    "\n",
    "        writer = open(\"repertoire.txt\", \"a\")\n",
    "        writer.write(self.iden + \" \")\n",
    "        writer.write(self.mdp + \" \")\n",
    "        writer.write(self.name+\" \")\n",
    "        writer.write(\"None\")\n",
    "        writer.write(\" \")\n",
    "        writer.write(\"None\")\n",
    "        writer.write(\"\\n\")\n",
    "\n",
    "        writer.close()\n",
    "            \n",
    "        \n",
    "    def affiche(self):\n",
    "        fds=open(\"repertoire.txt\", \"r\")\n",
    "        if fds.mode == 'r':\n",
    "            contents = fds.readlines()\n",
    "        fds.close()\n",
    "        print(contents)\n",
    "            \n",
    "    def identité(self):\n",
    "        self.condition_de_boucle = False\n",
    "        f = open(\"repertoire.txt\", 'r')\n",
    "        if f.mode == 'r':\n",
    "            self.contenu = f.readlines()\n",
    "        f.close()\n",
    "        while self.condition_de_boucle != True:\n",
    "            self.verif = input('Veuillez entrer votre identifiant : ')\n",
    "            self.verif2 = input('Veuillez entrer votre mot de passe : ')\n",
    "            for i in range(len(self.contenu)):\n",
    "                self.ligne = self.contenu[i]\n",
    "                self.coupe = self.ligne.split(\" \")\n",
    "                self.pseudo = self.coupe[0]\n",
    "                self.motdepasse=self.coupe[1]\n",
    "                if self.pseudo == self.verif and self.motdepasse == self.verif2:\n",
    "                    self.pseudo = self.verif\n",
    "                    self.motdepasse = self.verif2\n",
    "                    print(\"Vous êtes bien connecté\")\n",
    "                    self.condition_de_boucle = True\n",
    "                    break\n",
    "                    \n",
    "    def creer_historique(self):\n",
    "        writer = open(\"historique_courant.txt\", \"a\")\n",
    "        writer = open(\"historique_epargne.txt\", \"a\")\n",
    "\n",
    "    def creer_compte_courant(self):\n",
    "        self.condition_de_boucle = False\n",
    "        f = open(\"repertoire.txt\", 'r')\n",
    "        if f.mode == 'r':\n",
    "            self.contenu = f.readlines()\n",
    "        f.close()\n",
    "        for i in range(len(self.contenu)):\n",
    "            self.ligne = self.contenu[i]\n",
    "            self.coupe = self.ligne.split(\" \")\n",
    "            pseudo = self.coupe[0]\n",
    "            motdepasse=self.coupe[1]\n",
    "            nom = self.coupe[2]\n",
    "            if pseudo == self.verif and motdepasse == self.verif2:\n",
    "                self.contenu[i]=\"\"\n",
    "                self.banque = '0'\n",
    "                self.contenu.append(pseudo + \" \" + motdepasse + \" \" + nom + \" \" + self.banque + \" \" + 'None'+ '\\n')\n",
    "                print('Compte courant crée')\n",
    "                writer = open('repertoire.txt','w+')\n",
    "                for z in range(len(self.contenu)):\n",
    "                    writer.write(self.contenu[z])\n",
    "                writer.close()\n",
    "    \n",
    "    def creer_compte_épargne(self):\n",
    "        self.condition_de_boucle = False\n",
    "        f = open(\"repertoire.txt\", 'r')\n",
    "        if f.mode == 'r':\n",
    "            self.contenu = f.readlines()\n",
    "        f.close()\n",
    "        if self.banque == '0':\n",
    "            for i in range(len(self.contenu)):\n",
    "                self.ligne = self.contenu[i]\n",
    "                self.coupe = self.ligne.split(\" \")\n",
    "                pseudo = self.coupe[0]\n",
    "                motdepasse=self.coupe[1]\n",
    "                nom = self.coupe[2]\n",
    "                if pseudo == self.verif and motdepasse == self.verif2:\n",
    "                    self.contenu[i]=\"\"\n",
    "                    self.contenu.append(pseudo + \" \" + motdepasse + \" \" + nom + \" \" + '0' + \" \" + '0' + '\\n')\n",
    "                    print('Compte épargne crée')\n",
    "                    writer = open('repertoire.txt','w+')\n",
    "                    for z in range(len(self.contenu)):\n",
    "                        writer.write(self.contenu[z])\n",
    "                    writer.close()\n",
    "        else:\n",
    "            print(\"Veuillez crée un compte courant avant un compte épargne\")\n",
    "                \n",
    "\n",
    "    \n",
    "    def depot(self):\n",
    "        self.liste1 = []\n",
    "        self.liste2 = []\n",
    "        f = open(\"repertoire.txt\", 'r')\n",
    "        if f.mode == 'r':\n",
    "            self.contenu = f.readlines()\n",
    "        f.close()\n",
    "        depot = int(input(\"Veuiller saisir le montant à déposer : \"))\n",
    "        for i in range(len(self.contenu)):\n",
    "            f = open(\"repertoire.txt\", 'r')\n",
    "            if f.mode == 'r':\n",
    "                self.contenu = f.readlines()\n",
    "            f.close()\n",
    "            self.ligne = self.contenu[i]\n",
    "            self.coupe = self.ligne.split(\" \")\n",
    "            pseudo = self.coupe[0]\n",
    "            motdepasse=self.coupe[1]\n",
    "            nom = self.coupe[2]\n",
    "            if pseudo == self.verif and motdepasse == self.verif2:\n",
    "                fw = open('historique_courant.txt', 'a')\n",
    "                choix = input(\"Choisissez votre compte : \")\n",
    "                condition = str(choix)\n",
    "                if condition == \"compte courant\" or condition == \"Compte courant\" or condition == '1':\n",
    "                    \n",
    "                    result = int(self.coupe[3])+depot\n",
    "                    self.coupe[3] = str(result)\n",
    "                    self.contenu[i]=\"\"\n",
    "                    self.contenu.append(pseudo + \" \" + motdepasse + \" \" + nom + \" \" + self.coupe[3] + \" \" + self.coupe[4])\n",
    "                    fw.write(self.coupe[3])\n",
    "                    fw.write(' ')\n",
    "                    fw.close()\n",
    "                    file = open('repertoire.txt','w+')\n",
    "                    for z in range(len(self.contenu)):\n",
    "                        file.write(self.contenu[z])\n",
    "                    file.close()\n",
    "                    \n",
    "                        \n",
    "                elif condition == \"compte epargne\" or condition == \"Compte epargne\" or condition == '2':\n",
    "                    fw1 = open('historique_epargne.txt', 'a')\n",
    "                    result2 = int(self.coupe[4])+depot\n",
    "                    self.coupe[4] = str(result2)\n",
    "                    \n",
    "                    self.contenu[i]=\"\"\n",
    "                    self.contenu.append(pseudo + \" \" + motdepasse + \" \" + nom + \" \" + self.coupe[3] + \" \" + self.coupe[4])\n",
    "                    fw1.write(self.coupe[4])\n",
    "                    fw.write(' ')\n",
    "                    fw1.close()\n",
    "                    file = open('repertoire.txt','w+')\n",
    "                    for z in range(len(self.contenu)):\n",
    "                        file.write(self.contenu[z])\n",
    "                    file.close()\n",
    "                    \n",
    "                else:\n",
    "                    print('Veuillez choisir un compte valide')\n",
    "                    \n",
    "    def simulation(self):\n",
    "        self.nombre_année = int(input(\"Choisissez un nombre d'année pour simuler l'argent de votre compte_épargne\"))\n",
    "        for i in range(1,self.nombre_année+1):\n",
    "            simulation = int(self.coupe[4]) + (int(self.coupe[4])*0.6)\n",
    "        return simulation, self.nombre_année\n",
    "                    \n",
    "                    \n",
    "    \n",
    "    def retrait(self):\n",
    "        self.liste1 = []\n",
    "        self.liste2 = []\n",
    "        f = open(\"repertoire.txt\", 'r')\n",
    "        if f.mode == 'r':\n",
    "            self.contenu = f.readlines()\n",
    "        f.close()\n",
    "        depot = int(input(\"Veuiller saisir le montant à retirer : \"))\n",
    "        for i in range(len(self.contenu)):\n",
    "            f = open(\"repertoire.txt\", 'r')\n",
    "            if f.mode == 'r':\n",
    "                self.contenu = f.readlines()\n",
    "            f.close()\n",
    "            self.ligne = self.contenu[i]\n",
    "            self.coupe = self.ligne.split(\" \")\n",
    "            pseudo = self.coupe[0]\n",
    "            motdepasse=self.coupe[1]\n",
    "            nom = self.coupe[2]\n",
    "            if pseudo == self.verif and motdepasse == self.verif2:\n",
    "                fw = open('historique_courant.txt', 'a')\n",
    "                choix = input(\"Choisissez votre compte : \")\n",
    "                condition = str(choix)\n",
    "                if condition == \"compte courant\" or condition == \"Compte courant\" or condition == '1':\n",
    "                    \n",
    "                    result = int(self.coupe[3])-depot\n",
    "                    self.coupe[3] = str(result)\n",
    "                    self.contenu[i]=\"\"\n",
    "                    self.contenu.append(pseudo + \" \" + motdepasse + \" \" + nom + \" \" + self.coupe[3] + \" \" + self.coupe[4])\n",
    "                    fw.write(self.coupe[3])\n",
    "                    fw.write(' ')\n",
    "                    fw.close()\n",
    "                    file = open('repertoire.txt','w+')\n",
    "                    for z in range(len(self.contenu)):\n",
    "                        file.write(self.contenu[z])\n",
    "                    file.close()\n",
    "                    \n",
    "                        \n",
    "                elif condition == \"compte epargne\" or condition == \"Compte epargne\" or condition == '2':\n",
    "                    fw1 = open('historique_epargne.txt', 'a')\n",
    "                    result2 = int(self.coupe[4])-depot\n",
    "                    self.coupe[4] = str(result2)\n",
    "                    \n",
    "                    self.contenu[i]=\"\"\n",
    "                    self.contenu.append(pseudo + \" \" + motdepasse + \" \" + nom + \" \" + self.coupe[3] + \" \" + self.coupe[4])\n",
    "                    fw1.write(self.coupe[4])\n",
    "                    fw.write(' ')\n",
    "                    fw1.close()\n",
    "                    file = open('repertoire.txt','w+')\n",
    "                    for z in range(len(self.contenu)):\n",
    "                        file.write(self.contenu[z])\n",
    "                    file.close()\n",
    "                    \n",
    "                else:\n",
    "                    print('Veuillez choisir un compte valide')\n",
    "                    \n",
    "    def afficher_compte(self):\n",
    "        f = open(\"repertoire.txt\", 'r')\n",
    "        if f.mode == 'r':\n",
    "            self.contenu = f.readlines()\n",
    "        f.close()\n",
    "        for i in range(len(self.contenu)):\n",
    "            self.ligne = self.contenu[i]\n",
    "            self.coupe = self.ligne.split(\" \")\n",
    "            pseudo = self.coupe[0]\n",
    "            motdepasse=self.coupe[1]\n",
    "            nom = self.coupe[2]         \n",
    "            if pseudo == self.verif and motdepasse == self.verif2:\n",
    "                return self.coupe[3], self.coupe[4]\n",
    "    \n",
    "    def graphique_courant(self):\n",
    "        liste = []\n",
    "        indice = []\n",
    "        bowl = open('historique_courant.txt','r')\n",
    "        if bowl.mode == 'r':\n",
    "            hist = bowl.readlines()\n",
    "        bowl.close()\n",
    "        for i in range(len(hist)):\n",
    "            ligne = hist[i]\n",
    "            coupe = ligne.split(' ')\n",
    "        for i in range(len(coupe)):\n",
    "            liste.append(coupe[i])\n",
    "            indice.append(i)\n",
    "        del liste[-1]\n",
    "        del indice[-1]\n",
    "        ints = [int(item) for item in liste]\n",
    "        x = np.array(indice)\n",
    "        y = np.array(ints)\n",
    "        plt.plot(x,y)\n",
    "        plt.show()\n",
    "        \n",
    "def effacer_compte():\n",
    "    os.remove('repertoire.txt')\n",
    "def effacer_historique():\n",
    "    os.remove('historique_courant.txt')\n",
    "    os.remove('historique_epargne.txt')\n",
    "        "
   ]
  },
  {
   "cell_type": "code",
   "execution_count": 534,
   "id": "a531012b",
   "metadata": {},
   "outputs": [],
   "source": [
    "effacer_historique()"
   ]
  },
  {
   "cell_type": "code",
   "execution_count": 535,
   "id": "7b333ab9",
   "metadata": {},
   "outputs": [],
   "source": [
    "effacer()"
   ]
  },
  {
   "cell_type": "code",
   "execution_count": 536,
   "id": "d197e34b",
   "metadata": {},
   "outputs": [],
   "source": [
    "user = CompteBancaire(\"ke\", \"k\",\"1\")"
   ]
  },
  {
   "cell_type": "code",
   "execution_count": 537,
   "id": "7e22634c",
   "metadata": {},
   "outputs": [],
   "source": [
    "user = CompteBancaire(\"je\", \"j\",\"2\")"
   ]
  },
  {
   "cell_type": "code",
   "execution_count": 538,
   "id": "6e19d80e",
   "metadata": {},
   "outputs": [],
   "source": [
    "user = CompteBancaire(\"le\", \"l\",'3')"
   ]
  },
  {
   "cell_type": "code",
   "execution_count": 539,
   "id": "8e446224",
   "metadata": {},
   "outputs": [],
   "source": [
    "user.creer_historique()"
   ]
  },
  {
   "cell_type": "code",
   "execution_count": 540,
   "id": "396c15a5",
   "metadata": {},
   "outputs": [
    {
     "name": "stdout",
     "output_type": "stream",
     "text": [
      "['k 1 ke None None\\n', 'j 2 je None None\\n', 'l 3 le None None\\n']\n"
     ]
    }
   ],
   "source": [
    "user.affiche()"
   ]
  },
  {
   "cell_type": "code",
   "execution_count": 541,
   "id": "570d8003",
   "metadata": {},
   "outputs": [
    {
     "name": "stdout",
     "output_type": "stream",
     "text": [
      "Veuillez entrer votre identifiant : j\n",
      "Veuillez entrer votre mot de passe : 2\n",
      "Vous êtes bien connecté\n"
     ]
    }
   ],
   "source": [
    "user.identité()"
   ]
  },
  {
   "cell_type": "code",
   "execution_count": 542,
   "id": "f551ee4b",
   "metadata": {},
   "outputs": [
    {
     "name": "stdout",
     "output_type": "stream",
     "text": [
      "Compte courant crée\n"
     ]
    }
   ],
   "source": [
    "user.creer_compte_courant()"
   ]
  },
  {
   "cell_type": "code",
   "execution_count": 543,
   "id": "53f395f2",
   "metadata": {},
   "outputs": [
    {
     "name": "stdout",
     "output_type": "stream",
     "text": [
      "Compte épargne crée\n"
     ]
    }
   ],
   "source": [
    "user.creer_compte_épargne()"
   ]
  },
  {
   "cell_type": "code",
   "execution_count": 547,
   "id": "a1b78f05",
   "metadata": {},
   "outputs": [
    {
     "name": "stdout",
     "output_type": "stream",
     "text": [
      "Veuiller saisir le montant à déposer : 30\n",
      "Choisissez votre compte : 1\n"
     ]
    }
   ],
   "source": [
    "user.depot()"
   ]
  },
  {
   "cell_type": "code",
   "execution_count": 548,
   "id": "f87b7399",
   "metadata": {},
   "outputs": [
    {
     "name": "stdout",
     "output_type": "stream",
     "text": [
      "Veuiller saisir le montant à retirer : 10\n",
      "Choisissez votre compte : 1\n"
     ]
    }
   ],
   "source": [
    "user.retrait()"
   ]
  },
  {
   "cell_type": "code",
   "execution_count": 549,
   "id": "480ff5f2",
   "metadata": {},
   "outputs": [
    {
     "data": {
      "image/png": "[encoded data removed]",
      "text/plain": [
       "<Figure size 432x288 with 1 Axes>"
      ]
     },
     "metadata": {
      "needs_background": "light"
     },
     "output_type": "display_data"
    }
   ],
   "source": [
    "user.graphique_courant()"
   ]
  },
  {
   "cell_type": "code",
   "execution_count": 423,
   "id": "80a61bb3",
   "metadata": {},
   "outputs": [
    {
     "data": {
      "text/plain": [
       "('90', '0\\n')"
      ]
     },
     "execution_count": 423,
     "metadata": {},
     "output_type": "execute_result"
    }
   ],
   "source": [
    "user.afficher_compte()"
   ]
  },
  {
   "cell_type": "code",
   "execution_count": 382,
   "id": "a3b9d3de",
   "metadata": {},
   "outputs": [
    {
     "name": "stdout",
     "output_type": "stream",
     "text": [
      "Choisissez un nombre d'année pour simuler l'argent de votre compte_épargne15\n"
     ]
    },
    {
     "data": {
      "text/plain": [
       "(160.0, 15)"
      ]
     },
     "execution_count": 382,
     "metadata": {},
     "output_type": "execute_result"
    }
   ],
   "source": [
    "user.simulation()"
   ]
  }
 ],
 "metadata": {
  "kernelspec": {
   "display_name": "Python 3",
   "language": "python",
   "name": "python3"
  },
  "language_info": {
   "codemirror_mode": {
    "name": "ipython",
    "version": 3
   },
   "file_extension": ".py",
   "mimetype": "text/x-python",
   "name": "python",
   "nbconvert_exporter": "python",
   "pygments_lexer": "ipython3",
   "version": "3.9.5"
  }
 },
 "nbformat": 4,
 "nbformat_minor": 5
}
