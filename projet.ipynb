{
 "cells": [
  {
   "cell_type": "code",
   "execution_count": 295,
   "id": "33fc5166",
   "metadata": {},
   "outputs": [],
   "source": [
    "#Création de la classe\n",
    "import csv\n",
    "class CompteBancaire():\n",
    "    \"création d'une simulation de banque et de ses fonctions\"\n",
    "    \n",
    "\n",
    "    def __init__(self, name, iden, mdp):\n",
    "        self.name = name\n",
    "        self.iden = iden\n",
    "        self.mdp = mdp\n",
    "        with open('repertoire.csv', mode='a') as file_:\n",
    "            file_.write(\"{},{},{},{},{}\".format(self.iden, self.mdp, self.name, None, None))\n",
    "            file_.write(\"\\n\")\n",
    "            \n",
    "        \n",
    "    def affiche(self):\n",
    "        f = open('repertoire.csv')\n",
    "        fichier = csv.reader(f)\n",
    "        for ligne in fichier:\n",
    "            print(ligne)\n",
    "    \n",
    "    def identité(self):\n",
    "        condition_de_boucle = False\n",
    "        while condition_de_boucle == False:\n",
    "            donnees = []\n",
    "            with open(\"repertoire.csv\") as file:\n",
    "                reader = csv.reader(file)\n",
    "                for ligne in reader:\n",
    "                    donnees.append(ligne)\n",
    "            colonne0 = [x[0] for x in donnees]\n",
    "            colonne1 = [x[1] for x in donnees] \n",
    "    \n",
    "            verif = input(\"Veuillez rentrer votre identifiant : \")\n",
    "            verif2 = input(\"Veuillez rentrer votre mot de passe : \")\n",
    "        \n",
    "\n",
    "            if verif in colonne0:\n",
    "                for k in range(0,len(colonne0)):\n",
    "                    if colonne0[k] == verif and colonne1[k] == verif2:\n",
    "                        self.stock = k\n",
    "                        print(\"Vous êtes bien connecté\")\n",
    "                        condition_de_boucle = True\n",
    "\n",
    "        \n",
    "    def créer_compte_courant(self):\n",
    "        verif = input(\"Veillez rentrer votre identifiant : \")\n",
    "        verif2 = int(input(\"Veillez rentrer votre mot de passe : \"))\n",
    "        while verif != self.iden or verif2 != self.mdp:\n",
    "            print(\"Mauvais identifiant et/ou mot de passe veuilez réessayer : \")\n",
    "            verif = input(\"Veillez rentrer votre identifiant : \")\n",
    "            verif2 = int(input(\"Veillez rentrer votre mot de passe : \"))\n",
    "        self.compte_courant = 0\n",
    "        return self.compte_courant\n",
    "    \n",
    "    \n",
    "    def créer_compte_épargne(self):\n",
    "        verif = input(\"Veillez rentrer votre identifiant : \")\n",
    "        verif2 = int(input(\"Veillez rentrer votre mot de passe : \"))\n",
    "        while verif != self.iden or verif2 != self.mdp:\n",
    "            print(\"Mauvais identifiant et/ou mot de passe veuilez réessayer : \")\n",
    "            verif = input(\"Veillez rentrer votre identifiant : \")\n",
    "            verif2 = int(input(\"Veillez rentrer votre mot de passe : \"))\n",
    "        self.compte_épargne = 0\n",
    "        return self.compte_épargne\n",
    "    \n",
    "    def simulation(self):\n",
    "        self.nombre_année = int(input(\"Choisissez un nombre d'année pour simuler l'argent de votre compte_épargne\"))\n",
    "        for i in range(1,self.nombre_année+1):\n",
    "            simulation = self.compte_épargne + (self.compte_épargne*0.6)\n",
    "        return simulation, self.nombre_année\n",
    "    \n",
    "    \n",
    "    def depot(self):\n",
    "        verif = input(\"Veillez rentrer votre identifiant : \")\n",
    "        verif2 = int(input(\"Veillez rentrer votre mot de passe : \"))\n",
    "        while verif != self.iden or verif2 != self.mdp:\n",
    "            print(\"Mauvais identifiant et/ou mot de passe veuilez réessayer : \")\n",
    "            verif = input(\"Veillez rentrer votre identifiant : \")\n",
    "            verif2 = int(input(\"Veillez rentrer votre mot de passe : \"))\n",
    "            \n",
    "\n",
    "        depot = input(\"Veuiller saisir le montant déposer : \")\n",
    "        depot=int(depot)\n",
    "        choix = input(\"Choisissez votre compte : \")\n",
    "        if choix == \"compte_courant\":\n",
    "            self.compte_courant += depot\n",
    "            retour=print('argent sur le compte :',self.compte_courant,'€')\n",
    "        elif choix == \"compte_épargne\":\n",
    "            self.compte_épargne += depot\n",
    "            retour=print('argent sur le compte :',self.compte_épargne,'€')\n",
    "        else:\n",
    "            print(\"veuillez selectionner un compte valable\")\n",
    "        return retour\n",
    "    \n",
    "    def retrait(self):\n",
    "        verif = input(\"Veillez rentrer votre identifiant : \")\n",
    "        verif2 = int(input(\"Veillez rentrer votre mot de passe : \"))\n",
    "        while verif != self.iden or verif2 != self.mdp:\n",
    "            print(\"Mauvais identifiant et/ou mot de passe veuilez réessayer : \")\n",
    "            verif = input(\"Veuillez rentrer votre identifiant : \")\n",
    "            verif2 = int(input(\"Veuillez rentrer votre mot de passe : \"))\n",
    "        \n",
    "        retrait = input(\"Veuiller saisir le montant désirer : \")\n",
    "        retrait=int(retrait)\n",
    "        choix = input(\"Choisissez votre compte : \")\n",
    "        if choix == \"compte_courant\":\n",
    "            self.compte_courant -= retrait\n",
    "            retour=print('argent sur le compte :',self.compte_courant,'€')\n",
    "        elif choix == \"compte_épargne\":\n",
    "            self.compte_épargne -= retrait\n",
    "            retour=print('argent sur le compte :',self.compte_épargne,'€')\n",
    "        else:\n",
    "            print(\"veuillez selectionner un compte valable\")\n",
    "        return retour\n",
    "            "
   ]
  },
  {
   "cell_type": "code",
   "execution_count": 296,
   "id": "d197e34b",
   "metadata": {},
   "outputs": [],
   "source": [
    "user = CompteBancaire(\"Jean\", \"jean1234\",1234)"
   ]
  },
  {
   "cell_type": "code",
   "execution_count": 297,
   "id": "396c15a5",
   "metadata": {},
   "outputs": [
    {
     "name": "stdout",
     "output_type": "stream",
     "text": [
      "['jean1234', '1234', 'Jean', 'None', 'None']\n"
     ]
    }
   ],
   "source": [
    "user.affiche()"
   ]
  },
  {
   "cell_type": "code",
   "execution_count": 298,
   "id": "570d8003",
   "metadata": {},
   "outputs": [
    {
     "name": "stdout",
     "output_type": "stream",
     "text": [
      "Veuillez rentrer votre identifiant : jean1234\n",
      "Veuillez rentrer votre mot de passe : 1234\n",
      "Vous êtes bien connecté\n"
     ]
    }
   ],
   "source": [
    "user.identité()"
   ]
  },
  {
   "cell_type": "code",
   "execution_count": null,
   "id": "f551ee4b",
   "metadata": {},
   "outputs": [],
   "source": [
    "user.créer_compte_courant()"
   ]
  },
  {
   "cell_type": "code",
   "execution_count": null,
   "id": "53f395f2",
   "metadata": {},
   "outputs": [],
   "source": [
    "user.créer_compte_épargne()"
   ]
  },
  {
   "cell_type": "code",
   "execution_count": 139,
   "id": "a1b78f05",
   "metadata": {},
   "outputs": [
    {
     "name": "stdout",
     "output_type": "stream",
     "text": [
      "Veillez rentrer votre identifiant : j\n",
      "Veillez rentrer votre mot de passe : 1\n",
      "Veuiller saisir le montant déposer : 100\n",
      "Choisissez votre compte : compte_épargne\n",
      "argent sur le compte : 100 €\n"
     ]
    }
   ],
   "source": [
    "user.depot()"
   ]
  },
  {
   "cell_type": "code",
   "execution_count": 131,
   "id": "f87b7399",
   "metadata": {},
   "outputs": [
    {
     "name": "stdout",
     "output_type": "stream",
     "text": [
      "Veillez rentrer votre identifiant : j\n",
      "Veillez rentrer votre mot de passe : 1\n",
      "Veuiller saisir le montant désirer : 5\n",
      "Choisissez votre compte : compte_épargne\n",
      "argent sur le compte : 15 €\n"
     ]
    }
   ],
   "source": [
    "user.retrait()"
   ]
  },
  {
   "cell_type": "code",
   "execution_count": 140,
   "id": "a3b9d3de",
   "metadata": {},
   "outputs": [
    {
     "name": "stdout",
     "output_type": "stream",
     "text": [
      "Choisissez un nombre d'année pour simuler l'argent de votre compte_épargne5\n"
     ]
    },
    {
     "data": {
      "text/plain": [
       "(160.0, 5)"
      ]
     },
     "execution_count": 140,
     "metadata": {},
     "output_type": "execute_result"
    }
   ],
   "source": [
    "user.simulation()"
   ]
  },
  {
   "cell_type": "code",
   "execution_count": null,
   "id": "518fccc3",
   "metadata": {},
   "outputs": [],
   "source": []
  },
  {
   "cell_type": "code",
   "execution_count": null,
   "id": "2f409293",
   "metadata": {},
   "outputs": [],
   "source": []
  }
 ],
 "metadata": {
  "kernelspec": {
   "display_name": "Python 3",
   "language": "python",
   "name": "python3"
  },
  "language_info": {
   "codemirror_mode": {
    "name": "ipython",
    "version": 3
   },
   "file_extension": ".py",
   "mimetype": "text/x-python",
   "name": "python",
   "nbconvert_exporter": "python",
   "pygments_lexer": "ipython3",
   "version": "3.9.5"
  }
 },
 "nbformat": 4,
 "nbformat_minor": 5
}
