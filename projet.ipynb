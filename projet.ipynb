{
 "cells": [
  {
   "cell_type": "code",
   "execution_count": 39,
   "id": "c127ea7a",
   "metadata": {},
   "outputs": [],
   "source": [
    "def dict1(sample_dict, key, list_of_values):\n",
    "    if key not in sample_dict:\n",
    "        sample_dict[key] = list()\n",
    "    sample_dict[key].extend(list_of_values)\n",
    "    return sample_dict"
   ]
  },
  {
   "cell_type": "code",
   "execution_count": 46,
   "id": "33fc5166",
   "metadata": {},
   "outputs": [],
   "source": [
    "#Création de la classe\n",
    "from pandas import *\n",
    "class CompteBancaire():\n",
    "    \"création d'une simulation de banque et de ses fonctions\"\n",
    "    \n",
    "\n",
    "\n",
    "    def __init__(self, banque_name):\n",
    "        self.banque = banque_name\n",
    "        \n",
    "        \n",
    "    def affiche(self):\n",
    "        return self.banque\n",
    "    \n",
    "    def identité(self, name, iden, mdp):\n",
    "        self.n = 0\n",
    "        self.name = name\n",
    "        self.iden = iden\n",
    "        self.mdp = mdp\n",
    "        repertoire = {'Identifiant' : [], 'Nom' : [], 'mot de passe' : []}\n",
    "        repertoire = dict1(repertoire, 'Identifiant', [self.iden])\n",
    "        repertoire = dict1(repertoire, 'Nom', [self.name])\n",
    "        repertoire = dict1(repertoire, 'mot de passe', [self.mdp])\n",
    "        return repertoire\n",
    "        \n",
    "        \n",
    "    def créer_compte_courant(self):\n",
    "        verif = input(\"Veillez rentrer votre identifiant : \")\n",
    "        verif2 = int(input(\"Veillez rentrer votre mot de passe : \"))\n",
    "        while verif != self.iden or verif2 != self.mdp:\n",
    "            print(\"Mauvais identifiant et/ou mot de passe veuilez réessayer : \")\n",
    "            verif = input(\"Veillez rentrer votre identifiant : \")\n",
    "            verif2 = int(input(\"Veillez rentrer votre mot de passe : \"))\n",
    "        self.compte_courant = 0\n",
    "        return self.compte_courant\n",
    "    \n",
    "    \n",
    "    def créer_compte_épargne(self):\n",
    "        verif = input(\"Veillez rentrer votre identifiant : \")\n",
    "        verif2 = int(input(\"Veillez rentrer votre mot de passe : \"))\n",
    "        while verif != self.iden or verif2 != self.mdp:\n",
    "            print(\"Mauvais identifiant et/ou mot de passe veuilez réessayer : \")\n",
    "            verif = input(\"Veillez rentrer votre identifiant : \")\n",
    "            verif2 = int(input(\"Veillez rentrer votre mot de passe : \"))\n",
    "        self.compte_épargne = 0\n",
    "        return self.compte_épargne\n",
    "    \n",
    "    def simulation(self):\n",
    "        self.nombre_année = int(input(\"Choisissez un nombre d'année pour simuler l'argent de votre compte_épargne\"))\n",
    "        for i in range(1,self.nombre_année+1):\n",
    "            simulation = self.compte_épargne + (self.compte_épargne*0.6)\n",
    "        return simulation, self.nombre_année\n",
    "    \n",
    "    \n",
    "    def depot(self):\n",
    "        verif = input(\"Veillez rentrer votre identifiant : \")\n",
    "        verif2 = int(input(\"Veillez rentrer votre mot de passe : \"))\n",
    "        while verif != self.iden or verif2 != self.mdp:\n",
    "            print(\"Mauvais identifiant et/ou mot de passe veuilez réessayer : \")\n",
    "            verif = input(\"Veillez rentrer votre identifiant : \")\n",
    "            verif2 = int(input(\"Veillez rentrer votre mot de passe : \"))\n",
    "            \n",
    "\n",
    "        depot = input(\"Veuiller saisir le montant déposer : \")\n",
    "        depot=int(depot)\n",
    "        choix = input(\"Choisissez votre compte : \")\n",
    "        if choix == \"compte_courant\":\n",
    "            self.compte_courant += depot\n",
    "            retour=print('argent sur le compte :',self.compte_courant,'€')\n",
    "        elif choix == \"compte_épargne\":\n",
    "            self.compte_épargne += depot\n",
    "            retour=print('argent sur le compte :',self.compte_épargne,'€')\n",
    "        else:\n",
    "            print(\"veuillez selectionner un compte valable\")\n",
    "        return retour\n",
    "    \n",
    "    def retrait(self):\n",
    "        verif = input(\"Veillez rentrer votre identifiant : \")\n",
    "        verif2 = int(input(\"Veillez rentrer votre mot de passe : \"))\n",
    "        while verif != self.iden or verif2 != self.mdp:\n",
    "            print(\"Mauvais identifiant et/ou mot de passe veuilez réessayer : \")\n",
    "            verif = input(\"Veuillez rentrer votre identifiant : \")\n",
    "            verif2 = int(input(\"Veuillez rentrer votre mot de passe : \"))\n",
    "        \n",
    "        retrait = input(\"Veuiller saisir le montant désirer : \")\n",
    "        retrait=int(retrait)\n",
    "        choix = input(\"Choisissez votre compte : \")\n",
    "        if choix == \"compte_courant\":\n",
    "            self.compte_courant -= retrait\n",
    "            retour=print('argent sur le compte :',self.compte_courant,'€')\n",
    "        elif choix == \"compte_épargne\":\n",
    "            self.compte_épargne -= retrait\n",
    "            retour=print('argent sur le compte :',self.compte_épargne,'€')\n",
    "        else:\n",
    "            print(\"veuillez selectionner un compte valable\")\n",
    "        return retour\n",
    "            "
   ]
  },
  {
   "cell_type": "code",
   "execution_count": 47,
   "id": "f98742a0",
   "metadata": {},
   "outputs": [],
   "source": [
    "from pandas import *\n",
    "repertoire = pandas.DataFrame({\"Identifiant\" : [\"Jean\",\"Kevin\"], \"MDP\" : [1234,4567], \"Name\" : [\"Jean\",\"Kevin\"],\"compte courant\" : [50,40], \"compte épargne\" : [60,90] })\n",
    "repertoire.loc[2] = [\"JJEANNE\", 1234, \"Jeaan\",50,50]"
   ]
  },
  {
   "cell_type": "code",
   "execution_count": 48,
   "id": "b26a3ef4",
   "metadata": {},
   "outputs": [
    {
     "name": "stdout",
     "output_type": "stream",
     "text": [
      "  Identifiant   MDP   Name  compte courant  compte épargne\n",
      "0        Jean  1234   Jean              50              60\n",
      "1       Kevin  4567  Kevin              40              90\n",
      "2     JJEANNE  1234  Jeaan              50              50\n"
     ]
    }
   ],
   "source": [
    "print(repertoire)"
   ]
  },
  {
   "cell_type": "code",
   "execution_count": 49,
   "id": "d197e34b",
   "metadata": {},
   "outputs": [],
   "source": [
    "banque = CompteBancaire(\"l'argent c'est bien\")"
   ]
  },
  {
   "cell_type": "code",
   "execution_count": 50,
   "id": "396c15a5",
   "metadata": {},
   "outputs": [
    {
     "data": {
      "text/plain": [
       "\"l'argent c'est bien\""
      ]
     },
     "execution_count": 50,
     "metadata": {},
     "output_type": "execute_result"
    }
   ],
   "source": [
    "banque.affiche()"
   ]
  },
  {
   "cell_type": "code",
   "execution_count": 52,
   "id": "570d8003",
   "metadata": {},
   "outputs": [
    {
     "data": {
      "text/plain": [
       "{'Identifiant': ['j'], 'Nom': ['Jean'], 'mot de passe': [1]}"
      ]
     },
     "execution_count": 52,
     "metadata": {},
     "output_type": "execute_result"
    }
   ],
   "source": [
    "banque.identité(\"Jean\", \"j\", 1)"
   ]
  },
  {
   "cell_type": "code",
   "execution_count": 53,
   "id": "7435b94c",
   "metadata": {},
   "outputs": [
    {
     "name": "stdout",
     "output_type": "stream",
     "text": [
      "Veillez rentrer votre identifiant : j\n",
      "Veillez rentrer votre mot de passe : 1\n"
     ]
    },
    {
     "data": {
      "text/plain": [
       "0"
      ]
     },
     "execution_count": 53,
     "metadata": {},
     "output_type": "execute_result"
    }
   ],
   "source": [
    "banque.créer_compte_courant()"
   ]
  },
  {
   "cell_type": "code",
   "execution_count": 138,
   "id": "53f395f2",
   "metadata": {},
   "outputs": [
    {
     "name": "stdout",
     "output_type": "stream",
     "text": [
      "Veillez rentrer votre identifiant : j\n",
      "Veillez rentrer votre mot de passe : 1\n"
     ]
    },
    {
     "data": {
      "text/plain": [
       "0"
      ]
     },
     "execution_count": 138,
     "metadata": {},
     "output_type": "execute_result"
    }
   ],
   "source": [
    "banque.créer_compte_épargne()"
   ]
  },
  {
   "cell_type": "code",
   "execution_count": 139,
   "id": "a1b78f05",
   "metadata": {},
   "outputs": [
    {
     "name": "stdout",
     "output_type": "stream",
     "text": [
      "Veillez rentrer votre identifiant : j\n",
      "Veillez rentrer votre mot de passe : 1\n",
      "Veuiller saisir le montant déposer : 100\n",
      "Choisissez votre compte : compte_épargne\n",
      "argent sur le compte : 100 €\n"
     ]
    }
   ],
   "source": [
    "banque.depot()"
   ]
  },
  {
   "cell_type": "code",
   "execution_count": 131,
   "id": "f87b7399",
   "metadata": {},
   "outputs": [
    {
     "name": "stdout",
     "output_type": "stream",
     "text": [
      "Veillez rentrer votre identifiant : j\n",
      "Veillez rentrer votre mot de passe : 1\n",
      "Veuiller saisir le montant désirer : 5\n",
      "Choisissez votre compte : compte_épargne\n",
      "argent sur le compte : 15 €\n"
     ]
    }
   ],
   "source": [
    "banque.retrait()"
   ]
  },
  {
   "cell_type": "code",
   "execution_count": 140,
   "id": "a3b9d3de",
   "metadata": {},
   "outputs": [
    {
     "name": "stdout",
     "output_type": "stream",
     "text": [
      "Choisissez un nombre d'année pour simuler l'argent de votre compte_épargne5\n"
     ]
    },
    {
     "data": {
      "text/plain": [
       "(160.0, 5)"
      ]
     },
     "execution_count": 140,
     "metadata": {},
     "output_type": "execute_result"
    }
   ],
   "source": [
    "banque.simulation()"
   ]
  },
  {
   "cell_type": "code",
   "execution_count": null,
   "id": "518fccc3",
   "metadata": {},
   "outputs": [],
   "source": []
  },
  {
   "cell_type": "code",
   "execution_count": null,
   "id": "2f409293",
   "metadata": {},
   "outputs": [],
   "source": []
  }
 ],
 "metadata": {
  "kernelspec": {
   "display_name": "Python 3",
   "language": "python",
   "name": "python3"
  },
  "language_info": {
   "codemirror_mode": {
    "name": "ipython",
    "version": 3
   },
   "file_extension": ".py",
   "mimetype": "text/x-python",
   "name": "python",
   "nbconvert_exporter": "python",
   "pygments_lexer": "ipython3",
   "version": "3.9.5"
  }
 },
 "nbformat": 4,
 "nbformat_minor": 5
}
