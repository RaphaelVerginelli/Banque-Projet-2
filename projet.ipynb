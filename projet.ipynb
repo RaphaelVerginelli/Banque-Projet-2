{
 "cells": [
  {
   "cell_type": "code",
   "execution_count": 1,
   "id": "33fc5166",
   "metadata": {},
   "outputs": [],
   "source": [
    "#Création de la classe\n",
    "import csv\n",
    "import os.path\n",
    "class CompteBancaire():\n",
    "    \"création d'une simulation de banque et de ses fonctions\"\n",
    "    \n",
    "\n",
    "    def __init__(self, name, iden, mdp):\n",
    "        self.name = name\n",
    "        self.iden = iden\n",
    "        self.mdp = mdp\n",
    "\n",
    "\n",
    "        writer = open(\"repertoire.txt\", \"a\")\n",
    "        writer.write(self.iden + \" \")\n",
    "        writer.write(self.mdp + \" \")\n",
    "        writer.write(self.name+\" \")\n",
    "        writer.write(\"None\")\n",
    "        writer.write(\" \")\n",
    "        writer.write(\"None\")\n",
    "        writer.write(\"\\n\")\n",
    "\n",
    "        writer.close()\n",
    "            \n",
    "        \n",
    "    def affiche(self):\n",
    "        montrer = open(\"repertoire.txt\",\"r\")\n",
    "        print(montrer.readlines())\n",
    "        montrer.close()\n",
    "            \n",
    "    def identité(self):\n",
    "        self.condition_de_boucle = False\n",
    "        f = open(\"repertoire.txt\", 'r')\n",
    "        if f.mode == 'r':\n",
    "            self.contenu = f.readlines()\n",
    "        f.close()\n",
    "        while self.condition_de_boucle != True:\n",
    "            self.verif = input('Veuillez entrer votre identifiant : ')\n",
    "            self.verif2 = input('Veuillez entrer votre mot de passe : ')\n",
    "            for i in range(len(self.contenu)):\n",
    "                self.ligne = self.contenu[i]\n",
    "                self.coupe = self.ligne.split(\" \")\n",
    "                self.pseudo = self.coupe[0]\n",
    "                self.motdepasse=self.coupe[1]\n",
    "                if self.pseudo == self.verif and self.motdepasse == self.verif2:\n",
    "                    self.pseudo = self.verif\n",
    "                    self.motdepasse = self.verif2\n",
    "                    print(\"Vous êtes bien connecté\")\n",
    "                    self.condition_de_boucle = True\n",
    "                    break\n",
    "                \n",
    "\n",
    "    def créer_compte_courant(self):\n",
    "        self.condition_de_boucle = False\n",
    "        f = open(\"repertoire.txt\", 'r')\n",
    "        if f.mode == 'r':\n",
    "            self.contenu = f.readlines()\n",
    "        f.close()\n",
    "        for i in range(len(self.contenu)):\n",
    "            self.ligne = self.contenu[i]\n",
    "            self.coupe = self.ligne.split(\" \")\n",
    "            pseudo = self.coupe[0]\n",
    "            motdepasse=self.coupe[1]\n",
    "            nom = self.coupe[2]\n",
    "            if pseudo == self.verif and motdepasse == self.verif2:\n",
    "                self.contenu[i]=\"\"\n",
    "                self.banque = '0'\n",
    "                self.contenu.append(pseudo + \" \" + motdepasse + \" \" + nom + \" \" + self.banque + \" \" + 'None'+ '\\n')\n",
    "                print('Compte courant crée')\n",
    "                writer = open('repertoire.txt','w+')\n",
    "                for z in range(len(self.contenu)):\n",
    "                    writer.write(self.contenu[z])\n",
    "                writer.close()\n",
    "    \n",
    "    def créer_compte_épargne(self):\n",
    "        self.condition_de_boucle = False\n",
    "        f = open(\"repertoire.txt\", 'r')\n",
    "        if f.mode == 'r':\n",
    "            self.contenu = f.readlines()\n",
    "        f.close()\n",
    "        if self.banque == '0':\n",
    "            for i in range(len(self.contenu)):\n",
    "                self.ligne = self.contenu[i]\n",
    "                self.coupe = self.ligne.split(\" \")\n",
    "                pseudo = self.coupe[0]\n",
    "                motdepasse=self.coupe[1]\n",
    "                nom = self.coupe[2]\n",
    "                if pseudo == self.verif and motdepasse == self.verif2:\n",
    "                    self.contenu[i]=\"\"\n",
    "                    self.contenu.append(pseudo + \" \" + motdepasse + \" \" + nom + \" \" + '0' + \" \" + '0' + '\\n')\n",
    "                    print('Compte épargne crée')\n",
    "                    writer = open('repertoire.txt','w+')\n",
    "                    for z in range(len(self.contenu)):\n",
    "                        writer.write(self.contenu[z])\n",
    "                    writer.close()\n",
    "                \n",
    "    def simulation(self):\n",
    "        self.nombre_année = int(input(\"Choisissez un nombre d'année pour simuler l'argent de votre compte_épargne\"))\n",
    "        for i in range(1,self.nombre_année+1):\n",
    "            simulation = self.compte_épargne + (self.compte_épargne*0.6)\n",
    "        return simulation, self.nombre_année\n",
    "    \n",
    "    \n",
    "    def depot(self):\n",
    "        f = open(\"repertoire.txt\", 'r')\n",
    "        if f.mode == 'r':\n",
    "            self.ff = f.readlines()\n",
    "            self.liste = self.ff\n",
    "        f.close()\n",
    "        depot = int(input(\"Veuiller saisir le montant à déposer : \"))\n",
    "        choix = input(\"Choisissez votre compte : \")\n",
    "        for i in range(len(self.ff)):\n",
    "            self.ligne = self.ff[i]\n",
    "            self.coupe = self.ligne.split(\" \")\n",
    "            pseudo = self.coupe[0]\n",
    "            motdepasse=self.coupe[1]\n",
    "            nom = self.coupe[2]\n",
    "            cc = self.coupe[3]\n",
    "            ce = self.coupe[4]\n",
    "            \n",
    "            if pseudo == self.verif and motdepasse == self.verif2:\n",
    "                if choix == \"compte courant\" or \"Compte courant\":\n",
    "                    result = int(cc)+depot\n",
    "                    cc = result\n",
    "                    self.liste[i]=\"\"\n",
    "                    self.liste.append(pseudo + \" \" + motdepasse + \" \" + nom + \" \" + str(cc) + \" \" + str(ce) + '\\n')\n",
    "                    \n",
    "                    \n",
    "                    writer = open('repertoire.txt','w+')\n",
    "                    for z in range(len(self.liste)):\n",
    "                        writer.write(self.ff[z])\n",
    "                        \n",
    "                elif choix == \"compte épargne\" or \"Compte épargne\":\n",
    "                    result2 = int(ce)+depot\n",
    "                    ce = result2\n",
    "                    self.liste[i]=\"\"\n",
    "                    self.liste.append(pseudo + \" \" + motdepasse + \" \" + nom + \" \" + str(cc) + \" \" + str(ce) + '\\n')\n",
    "                    \n",
    "                    writer = open('repertoire.txt','w+')\n",
    "                    for z in range(len(self.liste)):\n",
    "                        writer.write(self.ff[z])\n",
    "                \n",
    "\n",
    "    \n",
    "    def retrait(self):\n",
    "        self.condition_de_boucle = False\n",
    "        f = open(\"repertoire.txt\", 'r')\n",
    "        if f.mode == 'r':\n",
    "            self.contenu = f.readlines()\n",
    "        f.close()\n",
    "        depot = int(input(\"Veuiller saisir le montant à déposer : \"))\n",
    "        choix = input(\"Choisissez votre compte : \")\n",
    "        for i in range(len(self.contenu)):\n",
    "            self.ligne = self.contenu[i]\n",
    "            self.coupe = self.ligne.split(\" \")\n",
    "            pseudo = self.coupe[0]\n",
    "            motdepasse=self.coupe[1]\n",
    "            nom = self.coupe[2]\n",
    "            cc = self.coupe[3]\n",
    "            ce = self.coupe[4]\n",
    "            if pseudo == self.verif and motdepasse == self.verif2:\n",
    "                if choix == \"compte courant\" or \"Compte courant\":\n",
    "                    result = int(cc)-depot\n",
    "                    self.contenu[i]=\"\"\n",
    "                    self.contenu.append(pseudo + \" \" + motdepasse + \" \" + nom + \" \" + str(result) + \" \" + + '\\n')\n",
    "                    writer = open('repertoire.txt','w+')\n",
    "                    for z in range(len(self.contenu)):\n",
    "                        writer.write(self.contenu[z])\n",
    "                elif choix == \"compte épargne\" or \"Compte épargne\":\n",
    "                    result2 = int(ce)-depot\n",
    "                    self.contenu[i]=\"\"\n",
    "                    self.contenu.append(pseudo + \" \" + motdepasse + \" \" + nom + \" \" +  + \" \" + str(result2)+ '\\n')\n",
    "                    writer = open('repertoire.txt','w+')\n",
    "                    for z in range(len(self.contenu)):\n",
    "                        writer.write(self.contenu[z])\n",
    "                \n",
    "                \n",
    "def effacer():\n",
    "    os.remove('repertoire.txt')\n",
    "\n",
    "        "
   ]
  },
  {
   "cell_type": "code",
   "execution_count": 2,
   "id": "7b333ab9",
   "metadata": {},
   "outputs": [],
   "source": [
    "effacer()"
   ]
  },
  {
   "cell_type": "code",
   "execution_count": 3,
   "id": "d197e34b",
   "metadata": {},
   "outputs": [],
   "source": [
    "user = CompteBancaire(\"ke\", \"k\",\"1\")"
   ]
  },
  {
   "cell_type": "code",
   "execution_count": 4,
   "id": "7e22634c",
   "metadata": {},
   "outputs": [],
   "source": [
    "user = CompteBancaire(\"je\", \"j\",\"2\")"
   ]
  },
  {
   "cell_type": "code",
   "execution_count": 5,
   "id": "6e19d80e",
   "metadata": {},
   "outputs": [],
   "source": [
    "user = CompteBancaire(\"le\", \"l\",'3')"
   ]
  },
  {
   "cell_type": "code",
   "execution_count": 6,
   "id": "396c15a5",
   "metadata": {},
   "outputs": [
    {
     "name": "stdout",
     "output_type": "stream",
     "text": [
      "['k 1 ke None None\\n', 'j 2 je None None\\n', 'l 3 le None None\\n']\n"
     ]
    }
   ],
   "source": [
    "user.affiche()"
   ]
  },
  {
   "cell_type": "code",
   "execution_count": 7,
   "id": "570d8003",
   "metadata": {},
   "outputs": [
    {
     "name": "stdout",
     "output_type": "stream",
     "text": [
      "Veuillez entrer votre identifiant : j\n",
      "Veuillez entrer votre mot de passe : 2\n",
      "Vous êtes bien connecté\n"
     ]
    }
   ],
   "source": [
    "user.identité()"
   ]
  },
  {
   "cell_type": "code",
   "execution_count": 8,
   "id": "f551ee4b",
   "metadata": {},
   "outputs": [
    {
     "name": "stdout",
     "output_type": "stream",
     "text": [
      "Compte courant crée\n"
     ]
    }
   ],
   "source": [
    "user.créer_compte_courant()"
   ]
  },
  {
   "cell_type": "code",
   "execution_count": 9,
   "id": "53f395f2",
   "metadata": {},
   "outputs": [
    {
     "name": "stdout",
     "output_type": "stream",
     "text": [
      "Compte épargne crée\n"
     ]
    }
   ],
   "source": [
    "user.créer_compte_épargne()"
   ]
  },
  {
   "cell_type": "code",
   "execution_count": 11,
   "id": "a1b78f05",
   "metadata": {},
   "outputs": [
    {
     "name": "stdout",
     "output_type": "stream",
     "text": [
      "Veuiller saisir le montant à déposer : 50\n",
      "Choisissez votre compte : compte épargne\n"
     ]
    },
    {
     "ename": "IndexError",
     "evalue": "list index out of range",
     "output_type": "error",
     "traceback": [
      "\u001b[1;31m---------------------------------------------------------------------------\u001b[0m",
      "\u001b[1;31mIndexError\u001b[0m                                Traceback (most recent call last)",
      "\u001b[1;32m<ipython-input-11-10eea7721bdb>\u001b[0m in \u001b[0;36m<module>\u001b[1;34m\u001b[0m\n\u001b[1;32m----> 1\u001b[1;33m \u001b[0muser\u001b[0m\u001b[1;33m.\u001b[0m\u001b[0mdepot\u001b[0m\u001b[1;33m(\u001b[0m\u001b[1;33m)\u001b[0m\u001b[1;33m\u001b[0m\u001b[1;33m\u001b[0m\u001b[0m\n\u001b[0m",
      "\u001b[1;32m<ipython-input-1-fa14b0aa214a>\u001b[0m in \u001b[0;36mdepot\u001b[1;34m(self)\u001b[0m\n\u001b[0;32m    114\u001b[0m             \u001b[0mself\u001b[0m\u001b[1;33m.\u001b[0m\u001b[0mcoupe\u001b[0m \u001b[1;33m=\u001b[0m \u001b[0mself\u001b[0m\u001b[1;33m.\u001b[0m\u001b[0mligne\u001b[0m\u001b[1;33m.\u001b[0m\u001b[0msplit\u001b[0m\u001b[1;33m(\u001b[0m\u001b[1;34m\" \"\u001b[0m\u001b[1;33m)\u001b[0m\u001b[1;33m\u001b[0m\u001b[1;33m\u001b[0m\u001b[0m\n\u001b[0;32m    115\u001b[0m             \u001b[0mpseudo\u001b[0m \u001b[1;33m=\u001b[0m \u001b[0mself\u001b[0m\u001b[1;33m.\u001b[0m\u001b[0mcoupe\u001b[0m\u001b[1;33m[\u001b[0m\u001b[1;36m0\u001b[0m\u001b[1;33m]\u001b[0m\u001b[1;33m\u001b[0m\u001b[1;33m\u001b[0m\u001b[0m\n\u001b[1;32m--> 116\u001b[1;33m             \u001b[0mmotdepasse\u001b[0m\u001b[1;33m=\u001b[0m\u001b[0mself\u001b[0m\u001b[1;33m.\u001b[0m\u001b[0mcoupe\u001b[0m\u001b[1;33m[\u001b[0m\u001b[1;36m1\u001b[0m\u001b[1;33m]\u001b[0m\u001b[1;33m\u001b[0m\u001b[1;33m\u001b[0m\u001b[0m\n\u001b[0m\u001b[0;32m    117\u001b[0m             \u001b[0mnom\u001b[0m \u001b[1;33m=\u001b[0m \u001b[0mself\u001b[0m\u001b[1;33m.\u001b[0m\u001b[0mcoupe\u001b[0m\u001b[1;33m[\u001b[0m\u001b[1;36m2\u001b[0m\u001b[1;33m]\u001b[0m\u001b[1;33m\u001b[0m\u001b[1;33m\u001b[0m\u001b[0m\n\u001b[0;32m    118\u001b[0m             \u001b[0mcc\u001b[0m \u001b[1;33m=\u001b[0m \u001b[0mself\u001b[0m\u001b[1;33m.\u001b[0m\u001b[0mcoupe\u001b[0m\u001b[1;33m[\u001b[0m\u001b[1;36m3\u001b[0m\u001b[1;33m]\u001b[0m\u001b[1;33m\u001b[0m\u001b[1;33m\u001b[0m\u001b[0m\n",
      "\u001b[1;31mIndexError\u001b[0m: list index out of range"
     ]
    }
   ],
   "source": [
    "user.depot()"
   ]
  },
  {
   "cell_type": "code",
   "execution_count": 131,
   "id": "f87b7399",
   "metadata": {},
   "outputs": [
    {
     "name": "stdout",
     "output_type": "stream",
     "text": [
      "Veillez rentrer votre identifiant : j\n",
      "Veillez rentrer votre mot de passe : 1\n",
      "Veuiller saisir le montant désirer : 5\n",
      "Choisissez votre compte : compte_épargne\n",
      "argent sur le compte : 15 €\n"
     ]
    }
   ],
   "source": [
    "user.retrait()"
   ]
  },
  {
   "cell_type": "code",
   "execution_count": 140,
   "id": "a3b9d3de",
   "metadata": {},
   "outputs": [
    {
     "name": "stdout",
     "output_type": "stream",
     "text": [
      "Choisissez un nombre d'année pour simuler l'argent de votre compte_épargne5\n"
     ]
    },
    {
     "data": {
      "text/plain": [
       "(160.0, 5)"
      ]
     },
     "execution_count": 140,
     "metadata": {},
     "output_type": "execute_result"
    }
   ],
   "source": [
    "user.simulation()"
   ]
  },
  {
   "cell_type": "code",
   "execution_count": null,
   "id": "518fccc3",
   "metadata": {},
   "outputs": [],
   "source": []
  },
  {
   "cell_type": "code",
   "execution_count": null,
   "id": "2f409293",
   "metadata": {},
   "outputs": [],
   "source": [
    "verif = input(\"Veillez rentrer votre identifiant : \")\n",
    "        verif2 = int(input(\"Veillez rentrer votre mot de passe : \"))\n",
    "        while verif != self.iden or verif2 != self.mdp:\n",
    "            print(\"Mauvais identifiant et/ou mot de passe veuilez réessayer : \")\n",
    "            verif = input(\"Veillez rentrer votre identifiant : \")\n",
    "            verif2 = int(input(\"Veillez rentrer votre mot de passe : \"))"
   ]
  },
  {
   "cell_type": "code",
   "execution_count": 3,
   "id": "6a314944",
   "metadata": {},
   "outputs": [
    {
     "ename": "IndentationError",
     "evalue": "unexpected indent (<ipython-input-3-636088a4158e>, line 2)",
     "output_type": "error",
     "traceback": [
      "\u001b[1;36m  File \u001b[1;32m\"<ipython-input-3-636088a4158e>\"\u001b[1;36m, line \u001b[1;32m2\u001b[0m\n\u001b[1;33m    with open('repertoire.csv','r') as file:\u001b[0m\n\u001b[1;37m    ^\u001b[0m\n\u001b[1;31mIndentationError\u001b[0m\u001b[1;31m:\u001b[0m unexpected indent\n"
     ]
    }
   ],
   "source": [
    "donnees = []\n",
    "            with open('repertoire.csv','r') as file:\n",
    "                reader = csv.reader(file)\n",
    "                for ligne in reader:\n",
    "                    donnees.append(ligne)\n",
    "            donnees[self.stock][3] = 0\n",
    "            with open('repertoire.csv','w') as file_:\n",
    "                writer = csv.writer(file_)\n",
    "                writer.writerow(donnees)"
   ]
  },
  {
   "cell_type": "code",
   "execution_count": null,
   "id": "f4cd25af",
   "metadata": {},
   "outputs": [],
   "source": [
    "while self.condition_de_boucle == False:\n",
    "            donnees = []\n",
    "            with open(\"repertoire.csv\",'r') as file:\n",
    "                reader = csv.reader(file)\n",
    "                for ligne in reader:\n",
    "                    donnees.append(ligne)\n",
    "            colonne0 = [x[0] for x in donnees]\n",
    "            colonne1 = [x[1] for x in donnees] \n",
    "    \n",
    "            verif = input(\"Veuillez rentrer votre identifiant : \")\n",
    "            verif2 = input(\"Veuillez rentrer votre mot de passe : \")\n",
    "        \n",
    "\n",
    "            if verif in colonne0:\n",
    "                for k in range(0,len(colonne0)):\n",
    "                    if colonne0[k] == verif and colonne1[k] == verif2:\n",
    "                        self.stock = k\n",
    "                        print(\"Vous êtes bien connecté\")\n",
    "                        self.condition_de_boucle = True"
   ]
  }
 ],
 "metadata": {
  "kernelspec": {
   "display_name": "Python 3",
   "language": "python",
   "name": "python3"
  },
  "language_info": {
   "codemirror_mode": {
    "name": "ipython",
    "version": 3
   },
   "file_extension": ".py",
   "mimetype": "text/x-python",
   "name": "python",
   "nbconvert_exporter": "python",
   "pygments_lexer": "ipython3",
   "version": "3.9.5"
  }
 },
 "nbformat": 4,
 "nbformat_minor": 5
}
