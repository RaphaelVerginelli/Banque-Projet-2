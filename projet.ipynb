{
 "cells": [
  {
   "cell_type": "code",
   "execution_count": 20,
   "id": "33fc5166",
   "metadata": {},
   "outputs": [],
   "source": [
    "import os.path \n",
    "import matplotlib.pyplot as plt                                #Bibliothèque pour gérer documents textes et graphiques\n",
    "import numpy as np\n",
    "from tkinter.messagebox import *\n",
    "from tkinter import *\n",
    "\n",
    "class CompteBancaire():\n",
    "    \"création d'une simulation de banque et de ses fonctions\"\n",
    "    \n",
    "\n",
    "    def __init__(self, name, iden, mdp):\n",
    "        self.name = name\n",
    "        self.iden = iden\n",
    "        self.mdp = mdp\n",
    "                #Création du repertoire et des données de l'utilisateur\n",
    "        writer = open(\"repertoire.txt\", \"a\")  \n",
    "        f = open(\"repertoire.txt\", 'r')\n",
    "        if f.mode == 'r':\n",
    "            self.contenu = f.readlines()\n",
    "        f.close()\n",
    "        for i in range(len(self.contenu)):\n",
    "            self.ligne = self.contenu[i]\n",
    "            self.coupe = self.ligne.split(\" \")\n",
    "            pseudo = self.coupe[0]\n",
    "            if pseudo == self.iden:\n",
    "                print('Identifiant déjà utilisé, veuillez le changer')\n",
    "                return None\n",
    "        writer.write(self.iden + \" \")\n",
    "        writer.write(self.mdp + \" \")\n",
    "        writer.write(self.name+\" \")\n",
    "        writer.write(\"None\")\n",
    "        writer.write(\" \")\n",
    "        writer.write(\"None\")\n",
    "        writer.write(\"\\n\")\n",
    "\n",
    "        writer.close()  #on ferme le fichier\n",
    "            \n",
    "        \n",
    "    def affiche(self):\n",
    "        fds=open(\"repertoire.txt\", \"r\")             #affiche le document texte repertoire contenant les données\n",
    "        if fds.mode == 'r':\n",
    "            contents = fds.readlines()\n",
    "        fds.close()\n",
    "        print(contents)\n",
    "            \n",
    "    def identité(self):\n",
    "        #méthode pour se connecter et avoir accés à uniquement ses données et pas celle des autres\n",
    "        self.condition_de_boucle = False   \n",
    "        #on stocke dans une variable le contenu des lignes \n",
    "        f = open(\"repertoire.txt\", 'r')\n",
    "        if f.mode == 'r':\n",
    "            self.contenu = f.readlines()\n",
    "        f.close()\n",
    "        while self.condition_de_boucle != True:\n",
    "            #boucle permettant de ne pas executer la fonction de nouveau si on se trompe\n",
    "            self.verif = input('Veuillez entrer votre identifiant : ')\n",
    "            self.verif2 = input('Veuillez entrer votre mot de passe : ')\n",
    "            for i in range(len(self.contenu)):\n",
    "                #On utilise les données du docuement et on les transforme de manière à les exploiter\n",
    "                self.ligne = self.contenu[i]\n",
    "                self.coupe = self.ligne.split(\" \")\n",
    "                self.pseudo = self.coupe[0]\n",
    "                self.motdepasse=self.coupe[1]\n",
    "#on vérifie si les mots de passe et utlisateurs sont bons, pas besoin de rentrer de nouveaux ses codes grace aux self.verif\n",
    "                if self.pseudo == self.verif and self.motdepasse == self.verif2:\n",
    "                    self.pseudo = self.verif\n",
    "                    self.motdepasse = self.verif2\n",
    "                    print(\"Vous êtes bien connecté\")\n",
    "                    self.condition_de_boucle = True\n",
    "                    break\n",
    "                    \n",
    "    def creer_historique(self):\n",
    "        #fonction qui permet de créer les fichiers contenant les variations des comptes (pour les graphiques)\n",
    "        writer = open(\"historique_courant.txt\", \"a\")\n",
    "        writer = open(\"historique_epargne.txt\", \"a\")\n",
    "\n",
    "    def creer_compte_courant(self):\n",
    "        #méthode pour créer un compte courant\n",
    "        self.condition_de_boucle = False\n",
    "        #on stocke dans une variable le contenu des lignes \n",
    "        f = open(\"repertoire.txt\", 'r')\n",
    "        if f.mode == 'r':\n",
    "            self.contenu = f.readlines()\n",
    "        f.close()\n",
    "        for i in range(len(self.contenu)):\n",
    "            #On utilise les données du docuement et on les transforme de manière à les exploiter\n",
    "            self.ligne = self.contenu[i]\n",
    "            self.coupe = self.ligne.split(\" \")\n",
    "            pseudo = self.coupe[0]\n",
    "            motdepasse=self.coupe[1]\n",
    "            nom = self.coupe[2]\n",
    "#on vérifie si les mots de passe et utlisateurs sont bons, pas besoin de rentrer de nouveaux ses codes grace aux self.verif\n",
    "            if pseudo == self.verif and motdepasse == self.verif2:\n",
    "                #Pour modifier la lignes du documents on l'efface et on l'écris de nouveau avec les modification\n",
    "                self.contenu[i]=\"\"\n",
    "                self.banque = '0'\n",
    "                self.contenu.append(pseudo + \" \" + motdepasse + \" \" + nom + \" \" + self.banque + \" \" + 'None'+ '\\n')\n",
    "                print('Compte courant crée')\n",
    "#la commande \"write\" permet d'effacer tout le document et de réecrire, ici avec les modification dans self.contenu\n",
    "                writer = open('repertoire.txt','w+')\n",
    "                for z in range(len(self.contenu)):\n",
    "                    writer.write(self.contenu[z])\n",
    "                writer.close()\n",
    "    \n",
    "    def creer_compte_épargne(self):\n",
    "        #même méthode que la précedente mais pour le compte épargne\n",
    "        self.condition_de_boucle = False\n",
    "        f = open(\"repertoire.txt\", 'r')\n",
    "        if f.mode == 'r':\n",
    "            self.contenu = f.readlines()\n",
    "        f.close()\n",
    "#seule différence on exige la création d'un compte courant avant un compte épargne, condition d'utilisation de la banque\n",
    "        if self.banque == '0':\n",
    "            for i in range(len(self.contenu)):\n",
    "                #On utilise les données du docuement et on les transforme de manière à les exploiter\n",
    "                self.ligne = self.contenu[i]\n",
    "                self.coupe = self.ligne.split(\" \")\n",
    "                pseudo = self.coupe[0]\n",
    "                motdepasse=self.coupe[1]\n",
    "                nom = self.coupe[2]\n",
    "#on vérifie si les mots de passe et utlisateurs sont bons, pas besoin de rentrer de nouveaux ses codes grace aux self.verif\n",
    "                if pseudo == self.verif and motdepasse == self.verif2:\n",
    "                    self.contenu[i]=\"\"\n",
    "                    self.contenu.append(pseudo + \" \" + motdepasse + \" \" + nom + \" \" + '0' + \" \" + '0' + '\\n')\n",
    "                    print('Compte épargne crée')\n",
    "#la commande \"write\" permet d'effacer tout le document et de réecrire, ici avec les modification dans self.contenu\n",
    "                    writer = open('repertoire.txt','w+')\n",
    "                    for z in range(len(self.contenu)):\n",
    "                        writer.write(self.contenu[z])\n",
    "                    writer.close()\n",
    "        else:\n",
    "            print(\"Veuillez crée un compte courant avant un compte épargne\")\n",
    "                \n",
    "\n",
    "    \n",
    "    def depot(self):\n",
    "        #méthodes pour ajouter de l'argent sur un des 2 comptes\n",
    "        #on stocke dans une variable le contenu des lignes \n",
    "        f = open(\"repertoire.txt\", 'r')\n",
    "        if f.mode == 'r':\n",
    "            self.contenu = f.readlines()\n",
    "        f.close()\n",
    "        #on saisi le montant d'argent à déposer\n",
    "        condition_de_boucle2 = False\n",
    "        depot = int(input(\"Veuiller saisir le montant à déposer : \"))\n",
    "        for i in range(len(self.contenu)):\n",
    "#on relit le fichier et on stock les nouvelles informations dans la variable (afin d'éxécuter la fonction \n",
    "#plusieurs fois sans erreur)\n",
    "            f = open(\"repertoire.txt\", 'r')\n",
    "            if f.mode == 'r':\n",
    "                self.contenu = f.readlines()\n",
    "            f.close()\n",
    "            #On utilise les données du docuement et on les transforme de manière à les exploiter\n",
    "            self.ligne = self.contenu[i]\n",
    "            self.coupe = self.ligne.split(\" \")\n",
    "            pseudo = self.coupe[0]\n",
    "            motdepasse=self.coupe[1]\n",
    "            nom = self.coupe[2]\n",
    "#on vérifie si les mots de passe et utlisateurs sont bons, pas besoin de rentrer de nouveaux ses codes grace aux self.verif\n",
    "            if pseudo == self.verif and motdepasse == self.verif2:\n",
    "                while condition_de_boucle2 != True:\n",
    "                #on ouvre le document historique courant pour stocker les modifications pour la création de graphique\n",
    "                    fw = open('historique_courant.txt', 'a')\n",
    "                #on choisi le compte sur lequel on dépose l'argent\n",
    "                    choix = input(\"Choisissez votre compte : \")\n",
    "#création d'une variable qui transforme la réposne en str ce qui correspond à la vérification de la condition\n",
    "                    condition = str(choix)\n",
    "                    if condition == \"compte courant\" or condition == \"Compte courant\" or condition == '1':\n",
    "                        #on effectue les opérations pour ajouter l'argent et on modifie les données de self.contenu\n",
    "                        result = int(self.coupe[3])+depot\n",
    "                        self.coupe[3] = str(result)\n",
    "                        self.contenu[i]=\"\"\n",
    "                        self.contenu.append(pseudo + \" \" + motdepasse + \" \" + nom + \" \" + self.coupe[3] + \" \" + self.coupe[4])\n",
    "    #on écrit dans le fichier historique la valeur du compte après la modification, un espace et of ferme le fichier\n",
    "                        fw.write(self.coupe[3])\n",
    "                        fw.write(' ')\n",
    "                        fw.close()\n",
    "    #la commande \"write\" permet d'effacer tout le document et de réecrire, ici avec les modification dans self.contenu\n",
    "                        file = open('repertoire.txt','w+')\n",
    "                        for z in range(len(self.contenu)):\n",
    "                            file.write(self.contenu[z])\n",
    "                        file.close()\n",
    "                        condition_de_boucle2 = True\n",
    "                    #on effectue les mêmes opérations pour le compte épargne et avec le fichier historique épargne\n",
    "                    elif condition == \"compte epargne\" or condition == \"Compte epargne\" or condition == '2':\n",
    "                        fw1 = open('historique_epargne.txt', 'a')\n",
    "                        result2 = int(self.coupe[4])+depot\n",
    "                        self.coupe[4] = str(result2)\n",
    "                    \n",
    "                        self.contenu[i]=\"\"\n",
    "                        self.contenu.append(pseudo + \" \" + motdepasse + \" \" + nom + \" \" + self.coupe[3] + \" \" + self.coupe[4])\n",
    "                        fw1.write(self.coupe[4])\n",
    "                        fw.write(' ')\n",
    "                        fw1.close()\n",
    "                        file = open('repertoire.txt','w+')\n",
    "                        for z in range(len(self.contenu)):\n",
    "                            file.write(self.contenu[z])\n",
    "                        file.close()\n",
    "                        condition_de_boucle2 = True\n",
    "                    else:\n",
    "                        print('Veuillez choisir un compte valide')\n",
    "                        \n",
    "    def simulation(self):\n",
    "        f = open(\"repertoire.txt\", 'r')\n",
    "        if f.mode == 'r':\n",
    "                self.contenu = f.readlines()\n",
    "        f.close()\n",
    "        for i in range(len(self.contenu)):\n",
    "            #On utilise les données du docuement et on les transforme de manière à les exploiter\n",
    "            self.ligne = self.contenu[i]\n",
    "            self.coupe = self.ligne.split(\" \")\n",
    "        #méthode qui permet de visualiser son compte épargne après un nombre d'années choisis par l'utilisateur\n",
    "        self.nombre_année = int(input(\"Choisissez un nombre d'année pour simuler l'argent de votre compte épargne\"))\n",
    "        simulation =0\n",
    "        for j in range(1,self.nombre_année+1):\n",
    "            simulation += int(self.coupe[4]) + (int(self.coupe[4])*0.25)\n",
    "        return simulation, self.nombre_année\n",
    "                    \n",
    "                    \n",
    "    \n",
    "    def retrait(self):\n",
    "        #même méthode que pour le dépot mais cette fois on retire de l'argent\n",
    "        f = open(\"repertoire.txt\", 'r')\n",
    "        if f.mode == 'r':\n",
    "            self.contenu = f.readlines()\n",
    "        f.close()\n",
    "        condition_de_boucle3 = False\n",
    "        depot = int(input(\"Veuiller saisir le montant à retirer : \"))\n",
    "        for i in range(len(self.contenu)):\n",
    "            f = open(\"repertoire.txt\", 'r')\n",
    "            if f.mode == 'r':\n",
    "                self.contenu = f.readlines()\n",
    "            f.close()\n",
    "            self.ligne = self.contenu[i]\n",
    "            self.coupe = self.ligne.split(\" \")\n",
    "            pseudo = self.coupe[0]\n",
    "            motdepasse=self.coupe[1]\n",
    "            nom = self.coupe[2]\n",
    "            if pseudo == self.verif and motdepasse == self.verif2:\n",
    "                while condition_de_boucle3 != True:\n",
    "                    fw = open('historique_courant.txt', 'a')\n",
    "                    choix = input(\"Choisissez votre compte : \")\n",
    "                    condition = str(choix)\n",
    "                    if condition == \"compte courant\" or condition == \"Compte courant\" or condition == '1':   \n",
    "                        result = int(self.coupe[3])-depot\n",
    "                        condition_de_boucle3 = True\n",
    "                        if result < 0 :\n",
    "                            return \"vous n'avez pas assez d'argent sur votre compte\"\n",
    "                        else:\n",
    "                            self.coupe[3] = str(result)\n",
    "                            self.contenu[i]=\"\"\n",
    "                            self.contenu.append(pseudo + \" \" + motdepasse + \" \" + nom + \" \" + self.coupe[3] + \" \" + self.coupe[4])\n",
    "                            fw.write(self.coupe[3])\n",
    "                            fw.write(' ')\n",
    "                            fw.close()\n",
    "                            file = open('repertoire.txt','w+')\n",
    "                            for z in range(len(self.contenu)):\n",
    "                                file.write(self.contenu[z])\n",
    "                            file.close()        \n",
    "                    elif condition == \"compte epargne\" or condition == \"Compte epargne\" or condition == '2':\n",
    "                        fw1 = open('historique_epargne.txt', 'a')\n",
    "                        result2 = int(self.coupe[4])-depot\n",
    "                        condition_de_boucle3 = True\n",
    "                        if result2 < 0 :\n",
    "                            return \"vous n'avez pas assez d'argent sur votre compte\" \n",
    "                        else:\n",
    "                            self.coupe[4] = str(result2)\n",
    "                        \n",
    "                            self.contenu[i]=\"\"\n",
    "                            self.contenu.append(pseudo + \" \" + motdepasse + \" \" + nom + \" \" + self.coupe[3] + \" \" + self.coupe[4])\n",
    "                            fw1.write(self.coupe[4])\n",
    "                            fw.write(' ')\n",
    "                            fw1.close()\n",
    "                            file = open('repertoire.txt','w+')\n",
    "                            for z in range(len(self.contenu)):\n",
    "                                file.write(self.contenu[z])\n",
    "                            file.close()\n",
    "                    else:\n",
    "                        print (\" veulliez choisir un compte valable\")\n",
    "                    \n",
    "    def afficher_compte(self):\n",
    "        #méthode qui permet de visualiser son comtpte courant et son compte épargne\n",
    "        f = open(\"repertoire.txt\", 'r')\n",
    "        if f.mode == 'r':\n",
    "            self.contenu = f.readlines()\n",
    "        f.close()\n",
    "        for i in range(len(self.contenu)):\n",
    "            self.ligne = self.contenu[i]\n",
    "            self.coupe = self.ligne.split(\" \")\n",
    "            pseudo = self.coupe[0]\n",
    "            motdepasse=self.coupe[1]\n",
    "            nom = self.coupe[2]         \n",
    "            if pseudo == self.verif and motdepasse == self.verif2:\n",
    "                return self.coupe[3], self.coupe[4]\n",
    "    \n",
    "    def graphique_courant(self):\n",
    "        #méthodes qui crée un graphiques du compte courant \n",
    "        liste = []\n",
    "        indice = []\n",
    "        bowl = open('historique_courant.txt','r')\n",
    "        if bowl.mode == 'r':\n",
    "            hist = bowl.readlines()\n",
    "        bowl.close()\n",
    "        for i in range(len(hist)):\n",
    "            ligne = hist[i]\n",
    "            coupe = ligne.split(' ')\n",
    "        for i in range(len(coupe)):\n",
    "            liste.append(coupe[i])\n",
    "            indice.append(i)\n",
    "        del liste[-1]\n",
    "        del indice[-1]\n",
    "        ints = [int(item) for item in liste]\n",
    "        x = np.array(indice)\n",
    "        y = np.array(ints)\n",
    "        plt.plot(x,y)\n",
    "        plt.show()\n",
    "        \n",
    "        \n",
    "#commande hors code de la classe pour supprimer les fichiers automatiquement et faciliter les tests\n",
    "        \n",
    "def effacer_compte():\n",
    "    #fonction qui permet de supprimer le répertoire, et de repartir à zéro\n",
    "    os.remove('repertoire.txt')\n",
    "\n",
    "\n",
    "\n",
    "def effacer_historique():\n",
    "    #fonction qui permet de supprimer les historiques, et de repartir à zéro\n",
    "    os.remove('historique_courant.txt')\n",
    "    os.remove('historique_epargne.txt')\n"
   ]
  },
  {
   "cell_type": "code",
   "execution_count": 21,
   "id": "a531012b",
   "metadata": {},
   "outputs": [
    {
     "ename": "FileNotFoundError",
     "evalue": "[WinError 2] Le fichier spécifié est introuvable: 'historique_courant.txt'",
     "output_type": "error",
     "traceback": [
      "\u001b[1;31m---------------------------------------------------------------------------\u001b[0m",
      "\u001b[1;31mFileNotFoundError\u001b[0m                         Traceback (most recent call last)",
      "\u001b[1;32m<ipython-input-21-11e875518267>\u001b[0m in \u001b[0;36m<module>\u001b[1;34m\u001b[0m\n\u001b[1;32m----> 1\u001b[1;33m \u001b[0meffacer_historique\u001b[0m\u001b[1;33m(\u001b[0m\u001b[1;33m)\u001b[0m\u001b[1;33m\u001b[0m\u001b[1;33m\u001b[0m\u001b[0m\n\u001b[0m",
      "\u001b[1;32m<ipython-input-20-521e2ac926cd>\u001b[0m in \u001b[0;36meffacer_historique\u001b[1;34m()\u001b[0m\n\u001b[0;32m    327\u001b[0m \u001b[1;32mdef\u001b[0m \u001b[0meffacer_historique\u001b[0m\u001b[1;33m(\u001b[0m\u001b[1;33m)\u001b[0m\u001b[1;33m:\u001b[0m\u001b[1;33m\u001b[0m\u001b[1;33m\u001b[0m\u001b[0m\n\u001b[0;32m    328\u001b[0m     \u001b[1;31m#fonction qui permet de supprimer les historiques, et de repartir à zéro\u001b[0m\u001b[1;33m\u001b[0m\u001b[1;33m\u001b[0m\u001b[1;33m\u001b[0m\u001b[0m\n\u001b[1;32m--> 329\u001b[1;33m     \u001b[0mos\u001b[0m\u001b[1;33m.\u001b[0m\u001b[0mremove\u001b[0m\u001b[1;33m(\u001b[0m\u001b[1;34m'historique_courant.txt'\u001b[0m\u001b[1;33m)\u001b[0m\u001b[1;33m\u001b[0m\u001b[1;33m\u001b[0m\u001b[0m\n\u001b[0m\u001b[0;32m    330\u001b[0m     \u001b[0mos\u001b[0m\u001b[1;33m.\u001b[0m\u001b[0mremove\u001b[0m\u001b[1;33m(\u001b[0m\u001b[1;34m'historique_epargne.txt'\u001b[0m\u001b[1;33m)\u001b[0m\u001b[1;33m\u001b[0m\u001b[1;33m\u001b[0m\u001b[0m\n",
      "\u001b[1;31mFileNotFoundError\u001b[0m: [WinError 2] Le fichier spécifié est introuvable: 'historique_courant.txt'"
     ]
    }
   ],
   "source": [
    "effacer_historique()"
   ]
  },
  {
   "cell_type": "code",
   "execution_count": 22,
   "id": "7b333ab9",
   "metadata": {},
   "outputs": [],
   "source": [
    "effacer_compte()"
   ]
  },
  {
   "cell_type": "code",
   "execution_count": 23,
   "id": "d197e34b",
   "metadata": {},
   "outputs": [],
   "source": [
    "user = CompteBancaire(\"ke\", \"k\",\"1\")"
   ]
  },
  {
   "cell_type": "code",
   "execution_count": 24,
   "id": "7e22634c",
   "metadata": {},
   "outputs": [],
   "source": [
    "user = CompteBancaire(\"je\", \"j\",\"2\")"
   ]
  },
  {
   "cell_type": "code",
   "execution_count": 25,
   "id": "7888df4a",
   "metadata": {},
   "outputs": [
    {
     "name": "stdout",
     "output_type": "stream",
     "text": [
      "Identifiant déjà utilisé, veuillez le changer\n"
     ]
    }
   ],
   "source": [
    "user = CompteBancaire('je','j','1')"
   ]
  },
  {
   "cell_type": "code",
   "execution_count": 26,
   "id": "6e19d80e",
   "metadata": {},
   "outputs": [],
   "source": [
    "user = CompteBancaire(\"le\", \"l\",'3')"
   ]
  },
  {
   "cell_type": "code",
   "execution_count": 7,
   "id": "8e446224",
   "metadata": {},
   "outputs": [],
   "source": [
    "user.creer_historique()"
   ]
  },
  {
   "cell_type": "code",
   "execution_count": 8,
   "id": "396c15a5",
   "metadata": {},
   "outputs": [
    {
     "name": "stdout",
     "output_type": "stream",
     "text": [
      "['k 1 ke None None\\n', 'j 2 je None None\\n', 'l 3 le None None\\n']\n"
     ]
    }
   ],
   "source": [
    "user.affiche()"
   ]
  },
  {
   "cell_type": "code",
   "execution_count": 9,
   "id": "570d8003",
   "metadata": {},
   "outputs": [
    {
     "name": "stdout",
     "output_type": "stream",
     "text": [
      "Veuillez entrer votre identifiant : j\n",
      "Veuillez entrer votre mot de passe : 2\n",
      "Vous êtes bien connecté\n"
     ]
    }
   ],
   "source": [
    "user.identité()"
   ]
  },
  {
   "cell_type": "code",
   "execution_count": 10,
   "id": "f551ee4b",
   "metadata": {},
   "outputs": [
    {
     "name": "stdout",
     "output_type": "stream",
     "text": [
      "Compte courant crée\n"
     ]
    }
   ],
   "source": [
    "user.creer_compte_courant()"
   ]
  },
  {
   "cell_type": "code",
   "execution_count": 11,
   "id": "53f395f2",
   "metadata": {},
   "outputs": [
    {
     "name": "stdout",
     "output_type": "stream",
     "text": [
      "Compte épargne crée\n"
     ]
    }
   ],
   "source": [
    "\n",
    "user.creer_compte_épargne()"
   ]
  },
  {
   "cell_type": "code",
   "execution_count": 12,
   "id": "a1b78f05",
   "metadata": {},
   "outputs": [
    {
     "name": "stdout",
     "output_type": "stream",
     "text": [
      "Veuiller saisir le montant à déposer : 30\n",
      "Choisissez votre compte : 2\n"
     ]
    }
   ],
   "source": [
    "user.depot()"
   ]
  },
  {
   "cell_type": "code",
   "execution_count": 13,
   "id": "f87b7399",
   "metadata": {},
   "outputs": [
    {
     "name": "stdout",
     "output_type": "stream",
     "text": [
      "Veuiller saisir le montant à retirer : 5\n",
      "Choisissez votre compte : 2\n"
     ]
    }
   ],
   "source": [
    "user.retrait()"
   ]
  },
  {
   "cell_type": "code",
   "execution_count": 39,
   "id": "480ff5f2",
   "metadata": {},
   "outputs": [
    {
     "data": {
      "image/png": "[encoded data removed]",
      "text/plain": [
       "<Figure size 432x288 with 1 Axes>"
      ]
     },
     "metadata": {
      "needs_background": "light"
     },
     "output_type": "display_data"
    }
   ],
   "source": [
    "user.graphique_courant()"
   ]
  },
  {
   "cell_type": "code",
   "execution_count": 14,
   "id": "80a61bb3",
   "metadata": {},
   "outputs": [
    {
     "data": {
      "text/plain": [
       "('0', '25')"
      ]
     },
     "execution_count": 14,
     "metadata": {},
     "output_type": "execute_result"
    }
   ],
   "source": [
    "user.afficher_compte()"
   ]
  },
  {
   "cell_type": "code",
   "execution_count": 15,
   "id": "a3b9d3de",
   "metadata": {},
   "outputs": [
    {
     "name": "stdout",
     "output_type": "stream",
     "text": [
      "Choisissez un nombre d'année pour simuler l'argent de votre compte épargne15\n"
     ]
    },
    {
     "data": {
      "text/plain": [
       "(468.75, 15)"
      ]
     },
     "execution_count": 15,
     "metadata": {},
     "output_type": "execute_result"
    }
   ],
   "source": [
    "user.simulation()"
   ]
  },
  {
   "cell_type": "code",
   "execution_count": null,
   "id": "a24f2179",
   "metadata": {},
   "outputs": [],
   "source": []
  }
 ],
 "metadata": {
  "kernelspec": {
   "display_name": "Python 3",
   "language": "python",
   "name": "python3"
  },
  "language_info": {
   "codemirror_mode": {
    "name": "ipython",
    "version": 3
   },
   "file_extension": ".py",
   "mimetype": "text/x-python",
   "name": "python",
   "nbconvert_exporter": "python",
   "pygments_lexer": "ipython3",
   "version": "3.9.5"
  }
 },
 "nbformat": 4,
 "nbformat_minor": 5
}
